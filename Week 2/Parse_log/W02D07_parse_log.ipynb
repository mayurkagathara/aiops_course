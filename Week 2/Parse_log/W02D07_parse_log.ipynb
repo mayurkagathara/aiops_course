{
 "cells": [
  {
   "cell_type": "code",
   "execution_count": null,
   "id": "8b39427e",
   "metadata": {},
   "outputs": [],
   "source": [
    "first_line = \"\"\"2025-07-18 08:01:55,884 INFO [user-api] Service 'data-api' started successfully.\"\"\""
   ]
  },
  {
   "cell_type": "code",
   "execution_count": 9,
   "id": "58780b01",
   "metadata": {},
   "outputs": [
    {
     "name": "stdout",
     "output_type": "stream",
     "text": [
      "['2025-07-18', '08:01:55,884', 'INFO', '[user-api]', 'Service', \"'data-api'\", 'started', 'successfully.']\n",
      "2025-07-18 08:01:55,884\n",
      "INFO\n",
      "user-api\n",
      "Service 'data-api' started successfully.\n",
      "{'ts': '2025-07-18 08:01:55,884', 'level': 'INFO'}\n"
     ]
    }
   ],
   "source": [
    "split_line = first_line.split(\" \")\n",
    "ts = ' '.join(split_line[:2])\n",
    "level = split_line[2]\n",
    "service = split_line[3].replace('[','').replace(']','')\n",
    "message = ' '.join(split_line[4:])\n",
    "\n",
    "parsed_data = {\"ts\":ts, \"level\":level}\n",
    "\n",
    "print(split_line, ts, level, service, message, parsed_data, sep='\\n')\n"
   ]
  },
  {
   "cell_type": "code",
   "execution_count": 14,
   "id": "cb80ee40",
   "metadata": {},
   "outputs": [
    {
     "name": "stdout",
     "output_type": "stream",
     "text": [
      "{'timestamp': '2025-07-18 08:01:55,84', 'level': 'INFO', 'service': 'user-api', 'message': \"Service 'data-api' started successfully.\"}\n"
     ]
    }
   ],
   "source": [
    "import re\n",
    "\n",
    "# re.compile\n",
    "# re.search()\n",
    "# re.findall()\n",
    "# re.sub()\n",
    "\n",
    "LOG_PATTERN = re.compile(\n",
    "    r\"^(?P<timestamp>\\d{4}-\\d{2}-\\d{2} \\d{2}:\\d{2}:\\d{2},\\d{2,3})\\s+\"\n",
    "    r\"(?P<level>[A-Z]+)\\s+\\[(?P<service>.*?)\\]\\s+\"\n",
    "    r\"(?P<message>.*)$\"\n",
    ")\n",
    "\n",
    "first_line = \"\"\"2025-07-18 08:01:55,84 INFO [user-api] Service 'data-api' started successfully.\"\"\"\n",
    "\n",
    "match = LOG_PATTERN.search(first_line)\n",
    "print(match.groupdict())"
   ]
  }
 ],
 "metadata": {
  "kernelspec": {
   "display_name": "Python 3",
   "language": "python",
   "name": "python3"
  },
  "language_info": {
   "codemirror_mode": {
    "name": "ipython",
    "version": 3
   },
   "file_extension": ".py",
   "mimetype": "text/x-python",
   "name": "python",
   "nbconvert_exporter": "python",
   "pygments_lexer": "ipython3",
   "version": "3.13.5"
  }
 },
 "nbformat": 4,
 "nbformat_minor": 5
}
