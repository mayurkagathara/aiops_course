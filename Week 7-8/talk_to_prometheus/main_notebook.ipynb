{
 "cells": [
  {
   "cell_type": "code",
   "execution_count": 3,
   "id": "0454d61a",
   "metadata": {},
   "outputs": [],
   "source": [
    "import os\n",
    "import requests\n",
    "import json\n",
    "import uuid\n",
    "from datetime import datetime, timedelta\n",
    "\n",
    "from crewai import Agent, Task, Crew, Process\n",
    "from crewai.flow import Flow, start, listen, router\n",
    "from crewai.tools import BaseTool\n",
    "from pydantic import BaseModel, Field, ValidationError\n",
    "from typing import List, Dict, Optional, Any, Tuple, Type\n",
    "from dataclasses import dataclass\n",
    "from config import (\n",
    "    OPENROUTER_API_KEY,\n",
    "    OPENROUTER_MODEL,\n",
    "    AGENT_VERBOSE,\n",
    "    MAX_AGENT_ITERATIONS,\n",
    ")\n",
    "from langchain_openai import ChatOpenAI"
   ]
  },
  {
   "cell_type": "code",
   "execution_count": 6,
   "id": "f78656ee",
   "metadata": {},
   "outputs": [],
   "source": [
    "MAX_RETRIES = MAX_AGENT_ITERATIONS  # Max retries for validation failures\n",
    "PROMETHEUS_BASE_URL = os.environ.get(\"PROMETHEUS_URL\", \"http://localhost:9090\")\n",
    "\n",
    "llm = ChatOpenAI(\n",
    "    model=OPENROUTER_MODEL,\n",
    "    openai_api_key=OPENROUTER_API_KEY,\n",
    "    openai_api_base=\"https://openrouter.ai/api/v1\",\n",
    ")"
   ]
  },
  {
   "cell_type": "code",
   "execution_count": 7,
   "id": "39b6cad1",
   "metadata": {},
   "outputs": [],
   "source": [
    "class PromParams(BaseModel):\n",
    "    start: Optional[int] = None  # Unix timestamp\n",
    "    end: Optional[int] = None    # Unix timestamp\n",
    "    step: Optional[str] = \"1m\"  # Step duration like '1m', '5m'\n",
    "\n",
    "class PromQLPlan(BaseModel):\n",
    "    query: str\n",
    "    query_type: str = \"query_range\"\n",
    "    parameters: PromParams = None\n",
    "\n",
    "class PromQLWorkflowState(BaseModel):\n",
    "    id: str = Field(default_factory=lambda: str(uuid.uuid4()))\n",
    "    original_query: str = \"\"\n",
    "    promql_plan: PromQLPlan = None\n",
    "    validation_result: bool = None\n",
    "    validation_feedback: Optional[str] = None\n",
    "    final_prometheus_result: Optional[Dict] = None\n",
    "    final_answer: Optional[str] = None\n",
    "    retry_count: int = 0\n",
    "    next_task: Optional[str] = None\n"
   ]
  },
  {
   "cell_type": "code",
   "execution_count": 12,
   "id": "63277685",
   "metadata": {},
   "outputs": [],
   "source": [
    "def PrometheusQueryTool(plan: Dict) -> Dict:\n",
    "    try:\n",
    "        # Use Pydantic model for robust parsing and validation of the plan\n",
    "        query_plan = PromQLPlan(**plan)\n",
    "        print(\n",
    "            f\"--- TOOL: Executing PromQL plan: {query_plan.model_dump_json()} ---\"\n",
    "        )\n",
    "\n",
    "        url = f\"{PROMETHEUS_BASE_URL}/api/v1/{query_plan.query_type}\"\n",
    "\n",
    "        # Build params, including dynamic start/end for range queries\n",
    "        params = {\"query\": query_plan.query}\n",
    "        if query_plan.query_type == \"query_range\":\n",
    "            if query_plan.parameters:\n",
    "                # A real implementation would parse timeframes like \"15m\"\n",
    "                # For simplicity, we'll assume they are pre-calculated.\n",
    "                params.update(query_plan.parameters)\n",
    "            else:  # Default to last 15 minutes if not specified\n",
    "                end_time = datetime.now(datetime.timezone.utc)\n",
    "                start_time = end_time - timedelta(minutes=15)\n",
    "                params[\"start\"] = start_time.isoformat() + \"Z\"\n",
    "                params[\"end\"] = end_time.isoformat() + \"Z\"\n",
    "                params[\"step\"] = \"1m\"\n",
    "        \n",
    "        print(f\"--- TOOL: Querying Prometheus at {url} with params {params} ---\")\n",
    "\n",
    "        response = requests.get(url, params=params, timeout=60)\n",
    "        response.raise_for_status()\n",
    "        return response.json()\n",
    "    except Exception as e:\n",
    "        import traceback\n",
    "        return {\"error\": True, \"message\": f\"failed: {e} {traceback.format_exc()}\"}"
   ]
  },
  {
   "cell_type": "code",
   "execution_count": 23,
   "id": "b872cf0e",
   "metadata": {},
   "outputs": [
    {
     "name": "stdout",
     "output_type": "stream",
     "text": [
      "--- TOOL: Executing PromQL plan: {\"query\":\"node_memory_MemFree_bytes\",\"query_type\":\"query_range\",\"parameters\":{\"start\":1756913823,\"end\":1756914723,\"step\":\"1m\"}} ---\n",
      "--- TOOL: Querying Prometheus at http://localhost:9090/api/v1/query_range with params {'query': 'node_memory_MemFree_bytes', 'start': 1756913823, 'end': 1756914723, 'step': '1m'} ---\n",
      "{'status': 'success', 'data': {'resultType': 'matrix', 'result': [{'metric': {'__name__': 'node_memory_MemFree_bytes', 'instance': 'node-exporter:9100', 'job': 'node-exporter'}, 'values': [[1756914363, '458301440'], [1756914423, '445927424'], [1756914483, '445669376'], [1756914543, '445218816'], [1756914603, '463351808'], [1756914663, '462897152'], [1756914723, '458563584']]}]}}\n"
     ]
    }
   ],
   "source": [
    "from datetime import datetime, timezone, timedelta\n",
    "\n",
    "plan = PromQLPlan(\n",
    "    query=\"node_memory_MemFree_bytes\",\n",
    "    query_type=\"query_range\",\n",
    "    parameters= PromParams(\n",
    "        start= int((datetime.now(timezone.utc) - timedelta(minutes=15)).timestamp()),\n",
    "        end= int(datetime.now(timezone.utc).timestamp()),\n",
    "        step=\"1m\"\n",
    "    ),\n",
    ").model_dump()\n",
    "\n",
    "tool_result = PrometheusQueryTool(plan)\n",
    "print(tool_result)"
   ]
  },
  {
   "cell_type": "code",
   "execution_count": null,
   "id": "daf4694a",
   "metadata": {},
   "outputs": [],
   "source": [
    "PlanningAgent = Agent(\n",
    "    verbose = AGENT_VERBOSE,\n",
    "    role=\"planner\",\n",
    "    goal=\"Convert natural language query from user into detailed PromQL\",\n",
    "    llm=llm,\n",
    "    backstory=\"The PlanningAgent is designed to bridge the gap \"\n",
    "    \"between human intent and machine execution. \"\n",
    "    \"It interprets user queries, identifies the underlying requirements, \"\n",
    "    \"and formulates a precise PromQL query. \",\n",
    "    max_iter= MAX_AGENT_ITERATIONS\n",
    ")\n",
    "\n",
    "AnalyzerAgent = Agent(\n",
    "    verbose = AGENT_VERBOSE,\n",
    "    role=\"analyzer\",\n",
    "    goal=\"Analyze Prometheus query results, extract meaningful insights, \"\n",
    "    \"and provide actionable recommendations based on the data.\",\n",
    "    llm=llm,\n",
    "    # tools=[FileStorageTool()],\n",
    "    backstory=\"The AnalyzerAgent is the system's intelligence layer. \"\n",
    "    \"It processes the raw results from Prometheus, identifies patterns, \"\n",
    "    \"and generates insights that are both actionable and easy to understand. \"\n",
    "    \"This agent ensures that users can make informed decisions based on the data.\",\n",
    "    max_iter= MAX_AGENT_ITERATIONS\n",
    ")\n",
    "# --- 6. Task and Flow Definition ---\n",
    "# Define tasks with unique names\n",
    "PlanTask = Task(\n",
    "    description =\"\"\"\n",
    "    Plan PromQL query based on user's natural language input {original_query}. \n",
    "    This task involves interpreting the user's intent,\n",
    "    identifying the appropriate PromQL constructs.\n",
    "    STRICTLY use the unix timestamp for any time parameters. \n",
    "    In the output json, if the query_type is \"query_range\",\n",
    "    include \"start\", \"end\" (both as unix timestamps) and \"step\" in parameters.\n",
    "    \"\"\",\n",
    "    agent=PlanningAgent,\n",
    "    output_json=PromQLPlan,\n",
    "    expected_output=\"The output should be a JSON object containing \"\n",
    "    \"the PromQL query string with parameters, the query type (e.g., 'query', 'query_range'), \" \n",
    "    \"parameters are optional and different per query_type like 'start', 'end', 'step', 'time', etc \"\n",
    "    \"and an optional step size if applicable.\"\n",
    ")\n",
    "\n",
    "AnalyzeTask = Task(\n",
    "    description=\"\"\" For given user's query: {original_query}, \n",
    "    Analyze the results of the PromQL query. \n",
    "    ```json\n",
    "    {prometheus_results}\n",
    "    ```\n",
    "    This task processes the raw data, identifies key insights, and\n",
    "    generates a summary that includes statistical analysis and actionable recommendations. The goal is to\n",
    "    provide users with a clear understanding of the data and its implications.\n",
    "    \"\"\",\n",
    "    agent=AnalyzerAgent,\n",
    "    expected_output=\"The output should be in easy to understand language \" \n",
    "    \"Provide some statistics bullet points, \"\n",
    "    \"and a list of actionable recommendations. \"\n",
    "    \"Do not give too long answers, keep it concise and to the point.\"\n",
    ")"
   ]
  },
  {
   "cell_type": "code",
   "execution_count": null,
   "id": "40ff3b23",
   "metadata": {},
   "outputs": [
    {
     "name": "stdout",
     "output_type": "stream",
     "text": [
      "--- FLOW: Starting analysis for query: Get me the CPU usage for Sept 1 2025, 7 to 8 AM IST ---\n",
      "created crew \n"
     ]
    },
    {
     "data": {
      "text/html": [
       "<pre style=\"white-space:pre;overflow-x:auto;line-height:normal;font-family:Menlo,'DejaVu Sans Mono',consolas,'Courier New',monospace\"><span style=\"color: #008080; text-decoration-color: #008080\">╭──────────────────────────────────────────── Crew Execution Started ─────────────────────────────────────────────╮</span>\n",
       "<span style=\"color: #008080; text-decoration-color: #008080\">│</span>                                                                                                                 <span style=\"color: #008080; text-decoration-color: #008080\">│</span>\n",
       "<span style=\"color: #008080; text-decoration-color: #008080\">│</span>  <span style=\"color: #008080; text-decoration-color: #008080; font-weight: bold\">Crew Execution Started</span>                                                                                         <span style=\"color: #008080; text-decoration-color: #008080\">│</span>\n",
       "<span style=\"color: #008080; text-decoration-color: #008080\">│</span>  <span style=\"color: #c0c0c0; text-decoration-color: #c0c0c0\">Name: </span><span style=\"color: #008080; text-decoration-color: #008080\">crew</span>                                                                                                     <span style=\"color: #008080; text-decoration-color: #008080\">│</span>\n",
       "<span style=\"color: #008080; text-decoration-color: #008080\">│</span>  <span style=\"color: #c0c0c0; text-decoration-color: #c0c0c0\">ID: </span><span style=\"color: #008080; text-decoration-color: #008080\">8062ec48-58d6-418d-91ba-a079898d2ed5</span>                                                                       <span style=\"color: #008080; text-decoration-color: #008080\">│</span>\n",
       "<span style=\"color: #008080; text-decoration-color: #008080\">│</span>  <span style=\"color: #c0c0c0; text-decoration-color: #c0c0c0\">Tool Args: </span>                                                                                                    <span style=\"color: #008080; text-decoration-color: #008080\">│</span>\n",
       "<span style=\"color: #008080; text-decoration-color: #008080\">│</span>                                                                                                                 <span style=\"color: #008080; text-decoration-color: #008080\">│</span>\n",
       "<span style=\"color: #008080; text-decoration-color: #008080\">│</span>                                                                                                                 <span style=\"color: #008080; text-decoration-color: #008080\">│</span>\n",
       "<span style=\"color: #008080; text-decoration-color: #008080\">╰─────────────────────────────────────────────────────────────────────────────────────────────────────────────────╯</span>\n",
       "</pre>\n"
      ],
      "text/plain": [
       "\u001b[36m╭─\u001b[0m\u001b[36m───────────────────────────────────────────\u001b[0m\u001b[36m Crew Execution Started \u001b[0m\u001b[36m────────────────────────────────────────────\u001b[0m\u001b[36m─╮\u001b[0m\n",
       "\u001b[36m│\u001b[0m                                                                                                                 \u001b[36m│\u001b[0m\n",
       "\u001b[36m│\u001b[0m  \u001b[1;36mCrew Execution Started\u001b[0m                                                                                         \u001b[36m│\u001b[0m\n",
       "\u001b[36m│\u001b[0m  \u001b[37mName: \u001b[0m\u001b[36mcrew\u001b[0m                                                                                                     \u001b[36m│\u001b[0m\n",
       "\u001b[36m│\u001b[0m  \u001b[37mID: \u001b[0m\u001b[36m8062ec48-58d6-418d-91ba-a079898d2ed5\u001b[0m                                                                       \u001b[36m│\u001b[0m\n",
       "\u001b[36m│\u001b[0m  \u001b[37mTool Args: \u001b[0m                                                                                                    \u001b[36m│\u001b[0m\n",
       "\u001b[36m│\u001b[0m                                                                                                                 \u001b[36m│\u001b[0m\n",
       "\u001b[36m│\u001b[0m                                                                                                                 \u001b[36m│\u001b[0m\n",
       "\u001b[36m╰─────────────────────────────────────────────────────────────────────────────────────────────────────────────────╯\u001b[0m\n"
      ]
     },
     "metadata": {},
     "output_type": "display_data"
    },
    {
     "data": {
      "text/html": [
       "<pre style=\"white-space:pre;overflow-x:auto;line-height:normal;font-family:Menlo,'DejaVu Sans Mono',consolas,'Courier New',monospace\">\n",
       "</pre>\n"
      ],
      "text/plain": [
       "\n"
      ]
     },
     "metadata": {},
     "output_type": "display_data"
    },
    {
     "data": {
      "text/html": [
       "<pre style=\"white-space:pre;overflow-x:auto;line-height:normal;font-family:Menlo,'DejaVu Sans Mono',consolas,'Courier New',monospace\"></pre>\n"
      ],
      "text/plain": []
     },
     "metadata": {},
     "output_type": "display_data"
    },
    {
     "data": {
      "text/html": [
       "<pre style=\"white-space:pre;overflow-x:auto;line-height:normal;font-family:Menlo,'DejaVu Sans Mono',consolas,'Courier New',monospace\"><span style=\"color: #800080; text-decoration-color: #800080\">╭─────────────────────────────────────────────── 🤖 Agent Started ────────────────────────────────────────────────╮</span>\n",
       "<span style=\"color: #800080; text-decoration-color: #800080\">│</span>                                                                                                                 <span style=\"color: #800080; text-decoration-color: #800080\">│</span>\n",
       "<span style=\"color: #800080; text-decoration-color: #800080\">│</span>  <span style=\"color: #c0c0c0; text-decoration-color: #c0c0c0\">Agent: </span><span style=\"color: #00ff00; text-decoration-color: #00ff00; font-weight: bold\">planner</span>                                                                                                 <span style=\"color: #800080; text-decoration-color: #800080\">│</span>\n",
       "<span style=\"color: #800080; text-decoration-color: #800080\">│</span>                                                                                                                 <span style=\"color: #800080; text-decoration-color: #800080\">│</span>\n",
       "<span style=\"color: #800080; text-decoration-color: #800080\">│</span>  <span style=\"color: #c0c0c0; text-decoration-color: #c0c0c0\">Task: </span>                                                                                                         <span style=\"color: #800080; text-decoration-color: #800080\">│</span>\n",
       "<span style=\"color: #800080; text-decoration-color: #800080\">│</span>  <span style=\"color: #00ff00; text-decoration-color: #00ff00\">    Plan PromQL query based on user's natural language input Get me the CPU usage for Sept 1 2025, 7 to 8 AM </span>  <span style=\"color: #800080; text-decoration-color: #800080\">│</span>\n",
       "<span style=\"color: #800080; text-decoration-color: #800080\">│</span>  <span style=\"color: #00ff00; text-decoration-color: #00ff00\">IST. </span>                                                                                                          <span style=\"color: #800080; text-decoration-color: #800080\">│</span>\n",
       "<span style=\"color: #800080; text-decoration-color: #800080\">│</span>  <span style=\"color: #00ff00; text-decoration-color: #00ff00\">    This task involves interpreting the user's intent,</span>                                                         <span style=\"color: #800080; text-decoration-color: #800080\">│</span>\n",
       "<span style=\"color: #800080; text-decoration-color: #800080\">│</span>  <span style=\"color: #00ff00; text-decoration-color: #00ff00\">    identifying the appropriate PromQL constructs.</span>                                                             <span style=\"color: #800080; text-decoration-color: #800080\">│</span>\n",
       "<span style=\"color: #800080; text-decoration-color: #800080\">│</span>  <span style=\"color: #00ff00; text-decoration-color: #00ff00\">    STRICTLY use the unix timestamp for any time parameters. </span>                                                  <span style=\"color: #800080; text-decoration-color: #800080\">│</span>\n",
       "<span style=\"color: #800080; text-decoration-color: #800080\">│</span>  <span style=\"color: #00ff00; text-decoration-color: #00ff00\">    In the output json, if the query_type is \"query_range\",</span>                                                    <span style=\"color: #800080; text-decoration-color: #800080\">│</span>\n",
       "<span style=\"color: #800080; text-decoration-color: #800080\">│</span>  <span style=\"color: #00ff00; text-decoration-color: #00ff00\">    include \"start\", \"end\" (both as unix timestamps) and \"step\" in parameters.</span>                                 <span style=\"color: #800080; text-decoration-color: #800080\">│</span>\n",
       "<span style=\"color: #800080; text-decoration-color: #800080\">│</span>  <span style=\"color: #00ff00; text-decoration-color: #00ff00\">    </span>                                                                                                           <span style=\"color: #800080; text-decoration-color: #800080\">│</span>\n",
       "<span style=\"color: #800080; text-decoration-color: #800080\">│</span>                                                                                                                 <span style=\"color: #800080; text-decoration-color: #800080\">│</span>\n",
       "<span style=\"color: #800080; text-decoration-color: #800080\">╰─────────────────────────────────────────────────────────────────────────────────────────────────────────────────╯</span>\n",
       "</pre>\n"
      ],
      "text/plain": [
       "\u001b[35m╭─\u001b[0m\u001b[35m──────────────────────────────────────────────\u001b[0m\u001b[35m 🤖 Agent Started \u001b[0m\u001b[35m───────────────────────────────────────────────\u001b[0m\u001b[35m─╮\u001b[0m\n",
       "\u001b[35m│\u001b[0m                                                                                                                 \u001b[35m│\u001b[0m\n",
       "\u001b[35m│\u001b[0m  \u001b[37mAgent: \u001b[0m\u001b[1;92mplanner\u001b[0m                                                                                                 \u001b[35m│\u001b[0m\n",
       "\u001b[35m│\u001b[0m                                                                                                                 \u001b[35m│\u001b[0m\n",
       "\u001b[35m│\u001b[0m  \u001b[37mTask: \u001b[0m                                                                                                         \u001b[35m│\u001b[0m\n",
       "\u001b[35m│\u001b[0m  \u001b[92m    Plan PromQL query based on user's natural language input Get me the CPU usage for Sept 1 2025, 7 to 8 AM \u001b[0m  \u001b[35m│\u001b[0m\n",
       "\u001b[35m│\u001b[0m  \u001b[92mIST. \u001b[0m                                                                                                          \u001b[35m│\u001b[0m\n",
       "\u001b[35m│\u001b[0m  \u001b[92m    This task involves interpreting the user's intent,\u001b[0m                                                         \u001b[35m│\u001b[0m\n",
       "\u001b[35m│\u001b[0m  \u001b[92m    identifying the appropriate PromQL constructs.\u001b[0m                                                             \u001b[35m│\u001b[0m\n",
       "\u001b[35m│\u001b[0m  \u001b[92m    STRICTLY use the unix timestamp for any time parameters. \u001b[0m                                                  \u001b[35m│\u001b[0m\n",
       "\u001b[35m│\u001b[0m  \u001b[92m    In the output json, if the query_type is \"query_range\",\u001b[0m                                                    \u001b[35m│\u001b[0m\n",
       "\u001b[35m│\u001b[0m  \u001b[92m    include \"start\", \"end\" (both as unix timestamps) and \"step\" in parameters.\u001b[0m                                 \u001b[35m│\u001b[0m\n",
       "\u001b[35m│\u001b[0m  \u001b[92m    \u001b[0m                                                                                                           \u001b[35m│\u001b[0m\n",
       "\u001b[35m│\u001b[0m                                                                                                                 \u001b[35m│\u001b[0m\n",
       "\u001b[35m╰─────────────────────────────────────────────────────────────────────────────────────────────────────────────────╯\u001b[0m\n"
      ]
     },
     "metadata": {},
     "output_type": "display_data"
    },
    {
     "data": {
      "text/html": [
       "<pre style=\"white-space:pre;overflow-x:auto;line-height:normal;font-family:Menlo,'DejaVu Sans Mono',consolas,'Courier New',monospace\">\n",
       "</pre>\n"
      ],
      "text/plain": [
       "\n"
      ]
     },
     "metadata": {},
     "output_type": "display_data"
    },
    {
     "data": {
      "text/html": [
       "<pre style=\"white-space:pre;overflow-x:auto;line-height:normal;font-family:Menlo,'DejaVu Sans Mono',consolas,'Courier New',monospace\"></pre>\n"
      ],
      "text/plain": []
     },
     "metadata": {},
     "output_type": "display_data"
    },
    {
     "data": {
      "text/html": [
       "<pre style=\"white-space:pre;overflow-x:auto;line-height:normal;font-family:Menlo,'DejaVu Sans Mono',consolas,'Courier New',monospace\"><span style=\"color: #008000; text-decoration-color: #008000\">╭───────────────────────────────────────────── ✅ Agent Final Answer ─────────────────────────────────────────────╮</span>\n",
       "<span style=\"color: #008000; text-decoration-color: #008000\">│</span>                                                                                                                 <span style=\"color: #008000; text-decoration-color: #008000\">│</span>\n",
       "<span style=\"color: #008000; text-decoration-color: #008000\">│</span>  <span style=\"color: #c0c0c0; text-decoration-color: #c0c0c0\">Agent: </span><span style=\"color: #00ff00; text-decoration-color: #00ff00; font-weight: bold\">planner</span>                                                                                                 <span style=\"color: #008000; text-decoration-color: #008000\">│</span>\n",
       "<span style=\"color: #008000; text-decoration-color: #008000\">│</span>                                                                                                                 <span style=\"color: #008000; text-decoration-color: #008000\">│</span>\n",
       "<span style=\"color: #008000; text-decoration-color: #008000\">│</span>  <span style=\"color: #c0c0c0; text-decoration-color: #c0c0c0\">Final Answer:</span>                                                                                                  <span style=\"color: #008000; text-decoration-color: #008000\">│</span>\n",
       "<span style=\"color: #008000; text-decoration-color: #008000\">│</span>  <span style=\"color: #00ff00; text-decoration-color: #00ff00\">{\"query\": \"(1 - avg by (instance) (rate(node_cpu_seconds_total{mode=\\\"idle\\\"}[5m]))) * 100\", \"query_type\": </span>    <span style=\"color: #008000; text-decoration-color: #008000\">│</span>\n",
       "<span style=\"color: #008000; text-decoration-color: #008000\">│</span>  <span style=\"color: #00ff00; text-decoration-color: #00ff00\">\"query_range\", \"parameters\": {\"start\": 1756776600, \"end\": 1756780200, \"step\": \"60s\"}}</span>                          <span style=\"color: #008000; text-decoration-color: #008000\">│</span>\n",
       "<span style=\"color: #008000; text-decoration-color: #008000\">│</span>                                                                                                                 <span style=\"color: #008000; text-decoration-color: #008000\">│</span>\n",
       "<span style=\"color: #008000; text-decoration-color: #008000\">╰─────────────────────────────────────────────────────────────────────────────────────────────────────────────────╯</span>\n",
       "</pre>\n"
      ],
      "text/plain": [
       "\u001b[32m╭─\u001b[0m\u001b[32m────────────────────────────────────────────\u001b[0m\u001b[32m ✅ Agent Final Answer \u001b[0m\u001b[32m────────────────────────────────────────────\u001b[0m\u001b[32m─╮\u001b[0m\n",
       "\u001b[32m│\u001b[0m                                                                                                                 \u001b[32m│\u001b[0m\n",
       "\u001b[32m│\u001b[0m  \u001b[37mAgent: \u001b[0m\u001b[1;92mplanner\u001b[0m                                                                                                 \u001b[32m│\u001b[0m\n",
       "\u001b[32m│\u001b[0m                                                                                                                 \u001b[32m│\u001b[0m\n",
       "\u001b[32m│\u001b[0m  \u001b[37mFinal Answer:\u001b[0m                                                                                                  \u001b[32m│\u001b[0m\n",
       "\u001b[32m│\u001b[0m  \u001b[92m{\"query\": \"(1 - avg by (instance) (rate(node_cpu_seconds_total{mode=\\\"idle\\\"}[5m]))) * 100\", \"query_type\": \u001b[0m    \u001b[32m│\u001b[0m\n",
       "\u001b[32m│\u001b[0m  \u001b[92m\"query_range\", \"parameters\": {\"start\": 1756776600, \"end\": 1756780200, \"step\": \"60s\"}}\u001b[0m                          \u001b[32m│\u001b[0m\n",
       "\u001b[32m│\u001b[0m                                                                                                                 \u001b[32m│\u001b[0m\n",
       "\u001b[32m╰─────────────────────────────────────────────────────────────────────────────────────────────────────────────────╯\u001b[0m\n"
      ]
     },
     "metadata": {},
     "output_type": "display_data"
    },
    {
     "data": {
      "text/html": [
       "<pre style=\"white-space:pre;overflow-x:auto;line-height:normal;font-family:Menlo,'DejaVu Sans Mono',consolas,'Courier New',monospace\">\n",
       "</pre>\n"
      ],
      "text/plain": [
       "\n"
      ]
     },
     "metadata": {},
     "output_type": "display_data"
    },
    {
     "data": {
      "text/html": [
       "<pre style=\"white-space:pre;overflow-x:auto;line-height:normal;font-family:Menlo,'DejaVu Sans Mono',consolas,'Courier New',monospace\"></pre>\n"
      ],
      "text/plain": []
     },
     "metadata": {},
     "output_type": "display_data"
    },
    {
     "data": {
      "text/html": [
       "<pre style=\"white-space:pre;overflow-x:auto;line-height:normal;font-family:Menlo,'DejaVu Sans Mono',consolas,'Courier New',monospace\"><span style=\"color: #008000; text-decoration-color: #008000\">╭──────────────────────────────────────────────── Task Completion ────────────────────────────────────────────────╮</span>\n",
       "<span style=\"color: #008000; text-decoration-color: #008000\">│</span>                                                                                                                 <span style=\"color: #008000; text-decoration-color: #008000\">│</span>\n",
       "<span style=\"color: #008000; text-decoration-color: #008000\">│</span>  <span style=\"color: #008000; text-decoration-color: #008000; font-weight: bold\">Task Completed</span>                                                                                                 <span style=\"color: #008000; text-decoration-color: #008000\">│</span>\n",
       "<span style=\"color: #008000; text-decoration-color: #008000\">│</span>  <span style=\"color: #c0c0c0; text-decoration-color: #c0c0c0\">Name: </span><span style=\"color: #008000; text-decoration-color: #008000\">1adfc249-62a9-4ee5-aa79-3b8b086b920f</span>                                                                     <span style=\"color: #008000; text-decoration-color: #008000\">│</span>\n",
       "<span style=\"color: #008000; text-decoration-color: #008000\">│</span>  <span style=\"color: #c0c0c0; text-decoration-color: #c0c0c0\">Agent: </span><span style=\"color: #008000; text-decoration-color: #008000\">planner</span>                                                                                                 <span style=\"color: #008000; text-decoration-color: #008000\">│</span>\n",
       "<span style=\"color: #008000; text-decoration-color: #008000\">│</span>  <span style=\"color: #c0c0c0; text-decoration-color: #c0c0c0\">Tool Args: </span>                                                                                                    <span style=\"color: #008000; text-decoration-color: #008000\">│</span>\n",
       "<span style=\"color: #008000; text-decoration-color: #008000\">│</span>                                                                                                                 <span style=\"color: #008000; text-decoration-color: #008000\">│</span>\n",
       "<span style=\"color: #008000; text-decoration-color: #008000\">│</span>                                                                                                                 <span style=\"color: #008000; text-decoration-color: #008000\">│</span>\n",
       "<span style=\"color: #008000; text-decoration-color: #008000\">╰─────────────────────────────────────────────────────────────────────────────────────────────────────────────────╯</span>\n",
       "</pre>\n"
      ],
      "text/plain": [
       "\u001b[32m╭─\u001b[0m\u001b[32m───────────────────────────────────────────────\u001b[0m\u001b[32m Task Completion \u001b[0m\u001b[32m───────────────────────────────────────────────\u001b[0m\u001b[32m─╮\u001b[0m\n",
       "\u001b[32m│\u001b[0m                                                                                                                 \u001b[32m│\u001b[0m\n",
       "\u001b[32m│\u001b[0m  \u001b[1;32mTask Completed\u001b[0m                                                                                                 \u001b[32m│\u001b[0m\n",
       "\u001b[32m│\u001b[0m  \u001b[37mName: \u001b[0m\u001b[32m1adfc249-62a9-4ee5-aa79-3b8b086b920f\u001b[0m                                                                     \u001b[32m│\u001b[0m\n",
       "\u001b[32m│\u001b[0m  \u001b[37mAgent: \u001b[0m\u001b[32mplanner\u001b[0m                                                                                                 \u001b[32m│\u001b[0m\n",
       "\u001b[32m│\u001b[0m  \u001b[37mTool Args: \u001b[0m                                                                                                    \u001b[32m│\u001b[0m\n",
       "\u001b[32m│\u001b[0m                                                                                                                 \u001b[32m│\u001b[0m\n",
       "\u001b[32m│\u001b[0m                                                                                                                 \u001b[32m│\u001b[0m\n",
       "\u001b[32m╰─────────────────────────────────────────────────────────────────────────────────────────────────────────────────╯\u001b[0m\n"
      ]
     },
     "metadata": {},
     "output_type": "display_data"
    },
    {
     "data": {
      "text/html": [
       "<pre style=\"white-space:pre;overflow-x:auto;line-height:normal;font-family:Menlo,'DejaVu Sans Mono',consolas,'Courier New',monospace\">\n",
       "</pre>\n"
      ],
      "text/plain": [
       "\n"
      ]
     },
     "metadata": {},
     "output_type": "display_data"
    },
    {
     "data": {
      "text/html": [
       "<pre style=\"white-space:pre;overflow-x:auto;line-height:normal;font-family:Menlo,'DejaVu Sans Mono',consolas,'Courier New',monospace\"><span style=\"color: #008000; text-decoration-color: #008000\">╭──────────────────────────────────────────────── Crew Completion ────────────────────────────────────────────────╮</span>\n",
       "<span style=\"color: #008000; text-decoration-color: #008000\">│</span>                                                                                                                 <span style=\"color: #008000; text-decoration-color: #008000\">│</span>\n",
       "<span style=\"color: #008000; text-decoration-color: #008000\">│</span>  <span style=\"color: #008000; text-decoration-color: #008000; font-weight: bold\">Crew Execution Completed</span>                                                                                       <span style=\"color: #008000; text-decoration-color: #008000\">│</span>\n",
       "<span style=\"color: #008000; text-decoration-color: #008000\">│</span>  <span style=\"color: #c0c0c0; text-decoration-color: #c0c0c0\">Name: </span><span style=\"color: #008000; text-decoration-color: #008000\">crew</span>                                                                                                     <span style=\"color: #008000; text-decoration-color: #008000\">│</span>\n",
       "<span style=\"color: #008000; text-decoration-color: #008000\">│</span>  <span style=\"color: #c0c0c0; text-decoration-color: #c0c0c0\">ID: </span><span style=\"color: #008000; text-decoration-color: #008000\">8062ec48-58d6-418d-91ba-a079898d2ed5</span>                                                                       <span style=\"color: #008000; text-decoration-color: #008000\">│</span>\n",
       "<span style=\"color: #008000; text-decoration-color: #008000\">│</span>  <span style=\"color: #c0c0c0; text-decoration-color: #c0c0c0\">Tool Args: </span>                                                                                                    <span style=\"color: #008000; text-decoration-color: #008000\">│</span>\n",
       "<span style=\"color: #008000; text-decoration-color: #008000\">│</span>  <span style=\"color: #c0c0c0; text-decoration-color: #c0c0c0\">Final Output: {\"query\": \"(1 - avg by (instance) (rate(node_cpu_seconds_total{mode=\\\"idle\\\"}[5m]))) * 100\", </span>    <span style=\"color: #008000; text-decoration-color: #008000\">│</span>\n",
       "<span style=\"color: #008000; text-decoration-color: #008000\">│</span>  <span style=\"color: #c0c0c0; text-decoration-color: #c0c0c0\">\"query_type\": \"query_range\", \"parameters\": {\"start\": 1756776600, \"end\": 1756780200, \"step\": \"60s\"}}</span>            <span style=\"color: #008000; text-decoration-color: #008000\">│</span>\n",
       "<span style=\"color: #008000; text-decoration-color: #008000\">│</span>                                                                                                                 <span style=\"color: #008000; text-decoration-color: #008000\">│</span>\n",
       "<span style=\"color: #008000; text-decoration-color: #008000\">│</span>                                                                                                                 <span style=\"color: #008000; text-decoration-color: #008000\">│</span>\n",
       "<span style=\"color: #008000; text-decoration-color: #008000\">╰─────────────────────────────────────────────────────────────────────────────────────────────────────────────────╯</span>\n",
       "</pre>\n"
      ],
      "text/plain": [
       "\u001b[32m╭─\u001b[0m\u001b[32m───────────────────────────────────────────────\u001b[0m\u001b[32m Crew Completion \u001b[0m\u001b[32m───────────────────────────────────────────────\u001b[0m\u001b[32m─╮\u001b[0m\n",
       "\u001b[32m│\u001b[0m                                                                                                                 \u001b[32m│\u001b[0m\n",
       "\u001b[32m│\u001b[0m  \u001b[1;32mCrew Execution Completed\u001b[0m                                                                                       \u001b[32m│\u001b[0m\n",
       "\u001b[32m│\u001b[0m  \u001b[37mName: \u001b[0m\u001b[32mcrew\u001b[0m                                                                                                     \u001b[32m│\u001b[0m\n",
       "\u001b[32m│\u001b[0m  \u001b[37mID: \u001b[0m\u001b[32m8062ec48-58d6-418d-91ba-a079898d2ed5\u001b[0m                                                                       \u001b[32m│\u001b[0m\n",
       "\u001b[32m│\u001b[0m  \u001b[37mTool Args: \u001b[0m                                                                                                    \u001b[32m│\u001b[0m\n",
       "\u001b[32m│\u001b[0m  \u001b[37mFinal Output: {\"query\": \"(1 - avg by (instance) (rate(node_cpu_seconds_total{mode=\\\"idle\\\"}[5m]))) * 100\", \u001b[0m    \u001b[32m│\u001b[0m\n",
       "\u001b[32m│\u001b[0m  \u001b[37m\"query_type\": \"query_range\", \"parameters\": {\"start\": 1756776600, \"end\": 1756780200, \"step\": \"60s\"}}\u001b[0m            \u001b[32m│\u001b[0m\n",
       "\u001b[32m│\u001b[0m                                                                                                                 \u001b[32m│\u001b[0m\n",
       "\u001b[32m│\u001b[0m                                                                                                                 \u001b[32m│\u001b[0m\n",
       "\u001b[32m╰─────────────────────────────────────────────────────────────────────────────────────────────────────────────────╯\u001b[0m\n"
      ]
     },
     "metadata": {},
     "output_type": "display_data"
    },
    {
     "data": {
      "text/html": [
       "<pre style=\"white-space:pre;overflow-x:auto;line-height:normal;font-family:Menlo,'DejaVu Sans Mono',consolas,'Courier New',monospace\">\n",
       "</pre>\n"
      ],
      "text/plain": [
       "\n"
      ]
     },
     "metadata": {},
     "output_type": "display_data"
    },
    {
     "name": "stdout",
     "output_type": "stream",
     "text": [
      "{'query': '(1 - avg by (instance) (rate(node_cpu_seconds_total{mode=\"idle\"}[5m]))) * 100', 'query_type': 'query_range', 'parameters': {'start': 1756776600, 'end': 1756780200, 'step': '60s'}}\n"
     ]
    }
   ],
   "source": [
    "original_query = \"Get me the CPU usage for 1st Sept 2025, 7 to 8 AM IST\"\n",
    "\n",
    "def generate_query() -> Dict:\n",
    "    \"\"\"Start by analyzing the user query.\"\"\"\n",
    "    coding_task, coding_agent = PlanTask, PlanningAgent\n",
    "    # print(f\"{'='*20}\",coding_task, coding_agent, f\"{'='*20}\")\n",
    "    global original_query\n",
    "    print(f\"--- FLOW: Starting analysis for query: {original_query} ---\")\n",
    "    \n",
    "    # Create crew for this task\n",
    "    generate_query_crew = Crew(\n",
    "        agents=[coding_agent],\n",
    "        tasks=[coding_task],\n",
    "        process=Process.sequential,\n",
    "        verbose=True,\n",
    "    )\n",
    "    print(\"created crew \")\n",
    "    result = generate_query_crew.kickoff(inputs={\"original_query\": original_query})\n",
    "    print(result)\n",
    "    return result\n",
    "\n",
    "result = generate_query()"
   ]
  },
  {
   "cell_type": "code",
   "execution_count": 45,
   "id": "5ada02bd",
   "metadata": {},
   "outputs": [
    {
     "data": {
      "text/plain": [
       "PromQLPlan(query='(1 - avg by (instance) (rate(node_cpu_seconds_total{mode=\"idle\"}[5m]))) * 100', query_type='query_range', parameters=PromParams(start=1756776600, end=1756780200, step='60s'))"
      ]
     },
     "execution_count": 45,
     "metadata": {},
     "output_type": "execute_result"
    }
   ],
   "source": [
    "# promql_plan\n",
    "promql_plan = PromQLPlan(**json.loads(result.raw))\n",
    "promql_plan"
   ]
  },
  {
   "cell_type": "code",
   "execution_count": 47,
   "id": "18e5e824",
   "metadata": {},
   "outputs": [
    {
     "name": "stdout",
     "output_type": "stream",
     "text": [
      "{\"query\":\"(1 - avg by (instance) (rate(node_cpu_seconds_total{mode=\\\"idle\\\"}[5m]))) * 100\",\"query_type\":\"query_range\",\"parameters\":{\"start\":1756776600,\"end\":1756780200,\"step\":\"60s\"}} <class 'str'>\n"
     ]
    }
   ],
   "source": [
    "plan = promql_plan.model_dump_json()\n",
    "print(plan, type(plan))"
   ]
  },
  {
   "cell_type": "code",
   "execution_count": 66,
   "id": "9fb4c2ce",
   "metadata": {},
   "outputs": [
    {
     "name": "stdout",
     "output_type": "stream",
     "text": [
      "--- TOOL: Executing PromQL plan: {\"query\":\"(1 - avg by (instance) (rate(node_cpu_seconds_total{mode=\\\"idle\\\"}[5m]))) * 100\",\"query_type\":\"query_range\",\"parameters\":{\"start\":1756776600,\"end\":1756780200,\"step\":\"60s\"}} ---\n",
      "--- TOOL: Querying Prometheus at http://localhost:9090/api/v1/query_range with params {'query': '(1 - avg by (instance) (rate(node_cpu_seconds_total{mode=\"idle\"}[5m]))) * 100', 'start': 1756776600, 'end': 1756780200, 'step': '60s'} ---\n",
      "{'status': 'success', 'data': {'resultType': 'matrix', 'result': [{'metric': {'instance': 'node-exporter:9100'}, 'values': [[1756779180, '94.785745'], [1756779240, '74.69500861904761'], [1756779300, '54.97508810256411'], [1756779360, '35.44477830555491'], [1756779420, '15.690193626666659'], [1756779480, '1.556648666542515'], [1756779540, '1.5564655172413677'], [1756779600, '1.4711206896551587'], [1756779660, '1.30741830144242'], [1756779720, '1.3171506305150515'], [1756779780, '1.3086206896551489'], [1756779840, '1.504153491243032'], [1756779900, '2.1176724137930814'], [1756779960, '2.2592947634843763'], [1756780020, '2.440517241379303'], [1756780080, '2.7347696700310897'], [1756780140, '2.735488943217812'], [1756780200, '2.162312673705691']]}]}} <class 'dict'>\n"
     ]
    }
   ],
   "source": [
    "pm_result = PrometheusQueryTool(json.loads(plan))\n",
    "\n",
    "print(pm_result, type(pm_result))"
   ]
  },
  {
   "cell_type": "code",
   "execution_count": 64,
   "id": "b3e2e864",
   "metadata": {},
   "outputs": [],
   "source": [
    "pm_result={\"success\": False, \"message\": \"failed\"}"
   ]
  },
  {
   "cell_type": "code",
   "execution_count": 65,
   "id": "dff38a15",
   "metadata": {},
   "outputs": [
    {
     "name": "stdout",
     "output_type": "stream",
     "text": [
      "handle_failure\n"
     ]
    }
   ],
   "source": [
    "if pm_result.get(\"success\", True):\n",
    "    print(\"analyze_results\")\n",
    "else:\n",
    "    print(\"handle_failure\")"
   ]
  },
  {
   "cell_type": "code",
   "execution_count": 74,
   "id": "8d100f42",
   "metadata": {},
   "outputs": [
    {
     "data": {
      "text/html": [
       "<pre style=\"white-space:pre;overflow-x:auto;line-height:normal;font-family:Menlo,'DejaVu Sans Mono',consolas,'Courier New',monospace\"><span style=\"color: #008080; text-decoration-color: #008080\">╭──────────────────────────────────────────── Crew Execution Started ─────────────────────────────────────────────╮</span>\n",
       "<span style=\"color: #008080; text-decoration-color: #008080\">│</span>                                                                                                                 <span style=\"color: #008080; text-decoration-color: #008080\">│</span>\n",
       "<span style=\"color: #008080; text-decoration-color: #008080\">│</span>  <span style=\"color: #008080; text-decoration-color: #008080; font-weight: bold\">Crew Execution Started</span>                                                                                         <span style=\"color: #008080; text-decoration-color: #008080\">│</span>\n",
       "<span style=\"color: #008080; text-decoration-color: #008080\">│</span>  <span style=\"color: #c0c0c0; text-decoration-color: #c0c0c0\">Name: </span><span style=\"color: #008080; text-decoration-color: #008080\">crew</span>                                                                                                     <span style=\"color: #008080; text-decoration-color: #008080\">│</span>\n",
       "<span style=\"color: #008080; text-decoration-color: #008080\">│</span>  <span style=\"color: #c0c0c0; text-decoration-color: #c0c0c0\">ID: </span><span style=\"color: #008080; text-decoration-color: #008080\">d18570a2-6779-4cc7-92fc-a298f5d6c7a9</span>                                                                       <span style=\"color: #008080; text-decoration-color: #008080\">│</span>\n",
       "<span style=\"color: #008080; text-decoration-color: #008080\">│</span>  <span style=\"color: #c0c0c0; text-decoration-color: #c0c0c0\">Tool Args: </span>                                                                                                    <span style=\"color: #008080; text-decoration-color: #008080\">│</span>\n",
       "<span style=\"color: #008080; text-decoration-color: #008080\">│</span>                                                                                                                 <span style=\"color: #008080; text-decoration-color: #008080\">│</span>\n",
       "<span style=\"color: #008080; text-decoration-color: #008080\">│</span>                                                                                                                 <span style=\"color: #008080; text-decoration-color: #008080\">│</span>\n",
       "<span style=\"color: #008080; text-decoration-color: #008080\">╰─────────────────────────────────────────────────────────────────────────────────────────────────────────────────╯</span>\n",
       "</pre>\n"
      ],
      "text/plain": [
       "\u001b[36m╭─\u001b[0m\u001b[36m───────────────────────────────────────────\u001b[0m\u001b[36m Crew Execution Started \u001b[0m\u001b[36m────────────────────────────────────────────\u001b[0m\u001b[36m─╮\u001b[0m\n",
       "\u001b[36m│\u001b[0m                                                                                                                 \u001b[36m│\u001b[0m\n",
       "\u001b[36m│\u001b[0m  \u001b[1;36mCrew Execution Started\u001b[0m                                                                                         \u001b[36m│\u001b[0m\n",
       "\u001b[36m│\u001b[0m  \u001b[37mName: \u001b[0m\u001b[36mcrew\u001b[0m                                                                                                     \u001b[36m│\u001b[0m\n",
       "\u001b[36m│\u001b[0m  \u001b[37mID: \u001b[0m\u001b[36md18570a2-6779-4cc7-92fc-a298f5d6c7a9\u001b[0m                                                                       \u001b[36m│\u001b[0m\n",
       "\u001b[36m│\u001b[0m  \u001b[37mTool Args: \u001b[0m                                                                                                    \u001b[36m│\u001b[0m\n",
       "\u001b[36m│\u001b[0m                                                                                                                 \u001b[36m│\u001b[0m\n",
       "\u001b[36m│\u001b[0m                                                                                                                 \u001b[36m│\u001b[0m\n",
       "\u001b[36m╰─────────────────────────────────────────────────────────────────────────────────────────────────────────────────╯\u001b[0m\n"
      ]
     },
     "metadata": {},
     "output_type": "display_data"
    },
    {
     "data": {
      "text/html": [
       "<pre style=\"white-space:pre;overflow-x:auto;line-height:normal;font-family:Menlo,'DejaVu Sans Mono',consolas,'Courier New',monospace\">\n",
       "</pre>\n"
      ],
      "text/plain": [
       "\n"
      ]
     },
     "metadata": {},
     "output_type": "display_data"
    },
    {
     "data": {
      "text/html": [
       "<pre style=\"white-space:pre;overflow-x:auto;line-height:normal;font-family:Menlo,'DejaVu Sans Mono',consolas,'Courier New',monospace\"></pre>\n"
      ],
      "text/plain": []
     },
     "metadata": {},
     "output_type": "display_data"
    },
    {
     "data": {
      "text/html": [
       "<pre style=\"white-space:pre;overflow-x:auto;line-height:normal;font-family:Menlo,'DejaVu Sans Mono',consolas,'Courier New',monospace\"><span style=\"color: #800080; text-decoration-color: #800080\">╭─────────────────────────────────────────────── 🤖 Agent Started ────────────────────────────────────────────────╮</span>\n",
       "<span style=\"color: #800080; text-decoration-color: #800080\">│</span>                                                                                                                 <span style=\"color: #800080; text-decoration-color: #800080\">│</span>\n",
       "<span style=\"color: #800080; text-decoration-color: #800080\">│</span>  <span style=\"color: #c0c0c0; text-decoration-color: #c0c0c0\">Agent: </span><span style=\"color: #00ff00; text-decoration-color: #00ff00; font-weight: bold\">analyzer</span>                                                                                                <span style=\"color: #800080; text-decoration-color: #800080\">│</span>\n",
       "<span style=\"color: #800080; text-decoration-color: #800080\">│</span>                                                                                                                 <span style=\"color: #800080; text-decoration-color: #800080\">│</span>\n",
       "<span style=\"color: #800080; text-decoration-color: #800080\">│</span>  <span style=\"color: #c0c0c0; text-decoration-color: #c0c0c0\">Task: </span><span style=\"color: #00ff00; text-decoration-color: #00ff00\"> For given user's query: Get me the CPU usage for Sept 1 2025, 7 to 8 AM IST, </span>                           <span style=\"color: #800080; text-decoration-color: #800080\">│</span>\n",
       "<span style=\"color: #800080; text-decoration-color: #800080\">│</span>  <span style=\"color: #00ff00; text-decoration-color: #00ff00\">    Analyze the results of the PromQL query. </span>                                                                  <span style=\"color: #800080; text-decoration-color: #800080\">│</span>\n",
       "<span style=\"color: #800080; text-decoration-color: #800080\">│</span>  <span style=\"color: #00ff00; text-decoration-color: #00ff00\">    ```json</span>                                                                                                    <span style=\"color: #800080; text-decoration-color: #800080\">│</span>\n",
       "<span style=\"color: #800080; text-decoration-color: #800080\">│</span>  <span style=\"color: #00ff00; text-decoration-color: #00ff00\">    {'status': 'success', 'data': {'resultType': 'matrix', 'result': [{'metric': {'instance': </span>                 <span style=\"color: #800080; text-decoration-color: #800080\">│</span>\n",
       "<span style=\"color: #800080; text-decoration-color: #800080\">│</span>  <span style=\"color: #00ff00; text-decoration-color: #00ff00\">'node-exporter:9100'}, 'values': [[1756779180, '94.785745'], [1756779240, '74.69500861904761'], [1756779300, </span>  <span style=\"color: #800080; text-decoration-color: #800080\">│</span>\n",
       "<span style=\"color: #800080; text-decoration-color: #800080\">│</span>  <span style=\"color: #00ff00; text-decoration-color: #00ff00\">'54.97508810256411'], [1756779360, '35.44477830555491'], [1756779420, '15.690193626666659'], [1756779480, </span>     <span style=\"color: #800080; text-decoration-color: #800080\">│</span>\n",
       "<span style=\"color: #800080; text-decoration-color: #800080\">│</span>  <span style=\"color: #00ff00; text-decoration-color: #00ff00\">'1.556648666542515'], [1756779540, '1.5564655172413677'], [1756779600, '1.4711206896551587'], [1756779660, </span>    <span style=\"color: #800080; text-decoration-color: #800080\">│</span>\n",
       "<span style=\"color: #800080; text-decoration-color: #800080\">│</span>  <span style=\"color: #00ff00; text-decoration-color: #00ff00\">'1.30741830144242'], [1756779720, '1.3171506305150515'], [1756779780, '1.3086206896551489'], [1756779840, </span>     <span style=\"color: #800080; text-decoration-color: #800080\">│</span>\n",
       "<span style=\"color: #800080; text-decoration-color: #800080\">│</span>  <span style=\"color: #00ff00; text-decoration-color: #00ff00\">'1.504153491243032'], [1756779900, '2.1176724137930814'], [1756779960, '2.2592947634843763'], [1756780020, </span>    <span style=\"color: #800080; text-decoration-color: #800080\">│</span>\n",
       "<span style=\"color: #800080; text-decoration-color: #800080\">│</span>  <span style=\"color: #00ff00; text-decoration-color: #00ff00\">'2.440517241379303'], [1756780080, '2.7347696700310897'], [1756780140, '2.735488943217812'], [1756780200, </span>     <span style=\"color: #800080; text-decoration-color: #800080\">│</span>\n",
       "<span style=\"color: #800080; text-decoration-color: #800080\">│</span>  <span style=\"color: #00ff00; text-decoration-color: #00ff00\">'2.162312673705691']]}]}}</span>                                                                                      <span style=\"color: #800080; text-decoration-color: #800080\">│</span>\n",
       "<span style=\"color: #800080; text-decoration-color: #800080\">│</span>  <span style=\"color: #00ff00; text-decoration-color: #00ff00\">    ```</span>                                                                                                        <span style=\"color: #800080; text-decoration-color: #800080\">│</span>\n",
       "<span style=\"color: #800080; text-decoration-color: #800080\">│</span>  <span style=\"color: #00ff00; text-decoration-color: #00ff00\">    This task processes the raw data, identifies key insights, and</span>                                             <span style=\"color: #800080; text-decoration-color: #800080\">│</span>\n",
       "<span style=\"color: #800080; text-decoration-color: #800080\">│</span>  <span style=\"color: #00ff00; text-decoration-color: #00ff00\">    generates a summary that includes statistical analysis and actionable recommendations. The goal is to</span>      <span style=\"color: #800080; text-decoration-color: #800080\">│</span>\n",
       "<span style=\"color: #800080; text-decoration-color: #800080\">│</span>  <span style=\"color: #00ff00; text-decoration-color: #00ff00\">    provide users with a clear understanding of the data and its implications.</span>                                 <span style=\"color: #800080; text-decoration-color: #800080\">│</span>\n",
       "<span style=\"color: #800080; text-decoration-color: #800080\">│</span>  <span style=\"color: #00ff00; text-decoration-color: #00ff00\">    </span>                                                                                                           <span style=\"color: #800080; text-decoration-color: #800080\">│</span>\n",
       "<span style=\"color: #800080; text-decoration-color: #800080\">│</span>                                                                                                                 <span style=\"color: #800080; text-decoration-color: #800080\">│</span>\n",
       "<span style=\"color: #800080; text-decoration-color: #800080\">╰─────────────────────────────────────────────────────────────────────────────────────────────────────────────────╯</span>\n",
       "</pre>\n"
      ],
      "text/plain": [
       "\u001b[35m╭─\u001b[0m\u001b[35m──────────────────────────────────────────────\u001b[0m\u001b[35m 🤖 Agent Started \u001b[0m\u001b[35m───────────────────────────────────────────────\u001b[0m\u001b[35m─╮\u001b[0m\n",
       "\u001b[35m│\u001b[0m                                                                                                                 \u001b[35m│\u001b[0m\n",
       "\u001b[35m│\u001b[0m  \u001b[37mAgent: \u001b[0m\u001b[1;92manalyzer\u001b[0m                                                                                                \u001b[35m│\u001b[0m\n",
       "\u001b[35m│\u001b[0m                                                                                                                 \u001b[35m│\u001b[0m\n",
       "\u001b[35m│\u001b[0m  \u001b[37mTask: \u001b[0m\u001b[92m For given user's query: Get me the CPU usage for Sept 1 2025, 7 to 8 AM IST, \u001b[0m                           \u001b[35m│\u001b[0m\n",
       "\u001b[35m│\u001b[0m  \u001b[92m    Analyze the results of the PromQL query. \u001b[0m                                                                  \u001b[35m│\u001b[0m\n",
       "\u001b[35m│\u001b[0m  \u001b[92m    ```json\u001b[0m                                                                                                    \u001b[35m│\u001b[0m\n",
       "\u001b[35m│\u001b[0m  \u001b[92m    {'status': 'success', 'data': {'resultType': 'matrix', 'result': [{'metric': {'instance': \u001b[0m                 \u001b[35m│\u001b[0m\n",
       "\u001b[35m│\u001b[0m  \u001b[92m'node-exporter:9100'}, 'values': [[1756779180, '94.785745'], [1756779240, '74.69500861904761'], [1756779300, \u001b[0m  \u001b[35m│\u001b[0m\n",
       "\u001b[35m│\u001b[0m  \u001b[92m'54.97508810256411'], [1756779360, '35.44477830555491'], [1756779420, '15.690193626666659'], [1756779480, \u001b[0m     \u001b[35m│\u001b[0m\n",
       "\u001b[35m│\u001b[0m  \u001b[92m'1.556648666542515'], [1756779540, '1.5564655172413677'], [1756779600, '1.4711206896551587'], [1756779660, \u001b[0m    \u001b[35m│\u001b[0m\n",
       "\u001b[35m│\u001b[0m  \u001b[92m'1.30741830144242'], [1756779720, '1.3171506305150515'], [1756779780, '1.3086206896551489'], [1756779840, \u001b[0m     \u001b[35m│\u001b[0m\n",
       "\u001b[35m│\u001b[0m  \u001b[92m'1.504153491243032'], [1756779900, '2.1176724137930814'], [1756779960, '2.2592947634843763'], [1756780020, \u001b[0m    \u001b[35m│\u001b[0m\n",
       "\u001b[35m│\u001b[0m  \u001b[92m'2.440517241379303'], [1756780080, '2.7347696700310897'], [1756780140, '2.735488943217812'], [1756780200, \u001b[0m     \u001b[35m│\u001b[0m\n",
       "\u001b[35m│\u001b[0m  \u001b[92m'2.162312673705691']]}]}}\u001b[0m                                                                                      \u001b[35m│\u001b[0m\n",
       "\u001b[35m│\u001b[0m  \u001b[92m    ```\u001b[0m                                                                                                        \u001b[35m│\u001b[0m\n",
       "\u001b[35m│\u001b[0m  \u001b[92m    This task processes the raw data, identifies key insights, and\u001b[0m                                             \u001b[35m│\u001b[0m\n",
       "\u001b[35m│\u001b[0m  \u001b[92m    generates a summary that includes statistical analysis and actionable recommendations. The goal is to\u001b[0m      \u001b[35m│\u001b[0m\n",
       "\u001b[35m│\u001b[0m  \u001b[92m    provide users with a clear understanding of the data and its implications.\u001b[0m                                 \u001b[35m│\u001b[0m\n",
       "\u001b[35m│\u001b[0m  \u001b[92m    \u001b[0m                                                                                                           \u001b[35m│\u001b[0m\n",
       "\u001b[35m│\u001b[0m                                                                                                                 \u001b[35m│\u001b[0m\n",
       "\u001b[35m╰─────────────────────────────────────────────────────────────────────────────────────────────────────────────────╯\u001b[0m\n"
      ]
     },
     "metadata": {},
     "output_type": "display_data"
    },
    {
     "data": {
      "text/html": [
       "<pre style=\"white-space:pre;overflow-x:auto;line-height:normal;font-family:Menlo,'DejaVu Sans Mono',consolas,'Courier New',monospace\">\n",
       "</pre>\n"
      ],
      "text/plain": [
       "\n"
      ]
     },
     "metadata": {},
     "output_type": "display_data"
    },
    {
     "data": {
      "text/html": [
       "<pre style=\"white-space:pre;overflow-x:auto;line-height:normal;font-family:Menlo,'DejaVu Sans Mono',consolas,'Courier New',monospace\"></pre>\n"
      ],
      "text/plain": []
     },
     "metadata": {},
     "output_type": "display_data"
    },
    {
     "data": {
      "text/html": [
       "<pre style=\"white-space:pre;overflow-x:auto;line-height:normal;font-family:Menlo,'DejaVu Sans Mono',consolas,'Courier New',monospace\"><span style=\"color: #008000; text-decoration-color: #008000\">╭───────────────────────────────────────────── ✅ Agent Final Answer ─────────────────────────────────────────────╮</span>\n",
       "<span style=\"color: #008000; text-decoration-color: #008000\">│</span>                                                                                                                 <span style=\"color: #008000; text-decoration-color: #008000\">│</span>\n",
       "<span style=\"color: #008000; text-decoration-color: #008000\">│</span>  <span style=\"color: #c0c0c0; text-decoration-color: #c0c0c0\">Agent: </span><span style=\"color: #00ff00; text-decoration-color: #00ff00; font-weight: bold\">analyzer</span>                                                                                                <span style=\"color: #008000; text-decoration-color: #008000\">│</span>\n",
       "<span style=\"color: #008000; text-decoration-color: #008000\">│</span>                                                                                                                 <span style=\"color: #008000; text-decoration-color: #008000\">│</span>\n",
       "<span style=\"color: #008000; text-decoration-color: #008000\">│</span>  <span style=\"color: #c0c0c0; text-decoration-color: #c0c0c0\">Final Answer:</span>                                                                                                  <span style=\"color: #008000; text-decoration-color: #008000\">│</span>\n",
       "<span style=\"color: #008000; text-decoration-color: #008000\">│</span>  <span style=\"color: #00ff00; text-decoration-color: #00ff00\">**CPU Usage Analysis for September 1, 2025 (7:00–8:00 AM IST)**  </span>                                              <span style=\"color: #008000; text-decoration-color: #008000\">│</span>\n",
       "<span style=\"color: #008000; text-decoration-color: #008000\">│</span>  <span style=\"color: #00ff00; text-decoration-color: #00ff00\">*Note: Data covers 6:43–7:00 AM IST (17 minutes) due to query constraints. Timestamps align with UTC+5:30 </span>     <span style=\"color: #008000; text-decoration-color: #008000\">│</span>\n",
       "<span style=\"color: #008000; text-decoration-color: #008000\">│</span>  <span style=\"color: #00ff00; text-decoration-color: #00ff00\">(IST).*  </span>                                                                                                      <span style=\"color: #008000; text-decoration-color: #008000\">│</span>\n",
       "<span style=\"color: #008000; text-decoration-color: #008000\">│</span>                                                                                                                 <span style=\"color: #008000; text-decoration-color: #008000\">│</span>\n",
       "<span style=\"color: #008000; text-decoration-color: #008000\">│</span>  <span style=\"color: #00ff00; text-decoration-color: #00ff00\">**Key Statistics**:  </span>                                                                                          <span style=\"color: #008000; text-decoration-color: #008000\">│</span>\n",
       "<span style=\"color: #008000; text-decoration-color: #008000\">│</span>  <span style=\"color: #00ff00; text-decoration-color: #00ff00\">- **Peak Usage**: 94.79% (7:13 AM IST) – critical threshold exceeded.  </span>                                        <span style=\"color: #008000; text-decoration-color: #008000\">│</span>\n",
       "<span style=\"color: #008000; text-decoration-color: #008000\">│</span>  <span style=\"color: #00ff00; text-decoration-color: #00ff00\">- **Lowest Usage**: 1.31% (7:23 AM IST) – stable baseline.  </span>                                                   <span style=\"color: #008000; text-decoration-color: #008000\">│</span>\n",
       "<span style=\"color: #008000; text-decoration-color: #008000\">│</span>  <span style=\"color: #00ff00; text-decoration-color: #00ff00\">- **Average Usage**: 16.67% – skewed by initial spike.  </span>                                                       <span style=\"color: #008000; text-decoration-color: #008000\">│</span>\n",
       "<span style=\"color: #008000; text-decoration-color: #008000\">│</span>  <span style=\"color: #00ff00; text-decoration-color: #00ff00\">- **Trend**: Sharp decline from 94.79% → 1.31% within 10 minutes, followed by gradual rise to 2.74% by 7:30 </span>   <span style=\"color: #008000; text-decoration-color: #008000\">│</span>\n",
       "<span style=\"color: #008000; text-decoration-color: #008000\">│</span>  <span style=\"color: #00ff00; text-decoration-color: #00ff00\">AM IST.  </span>                                                                                                      <span style=\"color: #008000; text-decoration-color: #008000\">│</span>\n",
       "<span style=\"color: #008000; text-decoration-color: #008000\">│</span>  <span style=\"color: #00ff00; text-decoration-color: #00ff00\">- **Duration of High Load**: 5 minutes (7:13–7:18 AM IST) above 15% usage.  </span>                                   <span style=\"color: #008000; text-decoration-color: #008000\">│</span>\n",
       "<span style=\"color: #008000; text-decoration-color: #008000\">│</span>                                                                                                                 <span style=\"color: #008000; text-decoration-color: #008000\">│</span>\n",
       "<span style=\"color: #008000; text-decoration-color: #008000\">│</span>  <span style=\"color: #00ff00; text-decoration-color: #00ff00\">**Critical Observations**:  </span>                                                                                   <span style=\"color: #008000; text-decoration-color: #008000\">│</span>\n",
       "<span style=\"color: #008000; text-decoration-color: #008000\">│</span>  <span style=\"color: #00ff00; text-decoration-color: #00ff00\">1. **Critical Spike**: CPU usage surged to 94.79% at the start of the window, indicating a resource-intensive</span>  <span style=\"color: #008000; text-decoration-color: #008000\">│</span>\n",
       "<span style=\"color: #008000; text-decoration-color: #008000\">│</span>  <span style=\"color: #00ff00; text-decoration-color: #00ff00\">process (e.g., batch job, backup, or unoptimized service).  </span>                                                   <span style=\"color: #008000; text-decoration-color: #008000\">│</span>\n",
       "<span style=\"color: #008000; text-decoration-color: #008000\">│</span>  <span style=\"color: #00ff00; text-decoration-color: #00ff00\">2. **Rapid Recovery**: Drop to 1.5% within 10 minutes suggests the process completed or was terminated </span>        <span style=\"color: #008000; text-decoration-color: #008000\">│</span>\n",
       "<span style=\"color: #008000; text-decoration-color: #008000\">│</span>  <span style=\"color: #00ff00; text-decoration-color: #00ff00\">abruptly.  </span>                                                                                                    <span style=\"color: #008000; text-decoration-color: #008000\">│</span>\n",
       "<span style=\"color: #008000; text-decoration-color: #008000\">│</span>  <span style=\"color: #00ff00; text-decoration-color: #00ff00\">3. **Stable Baseline**: Sustained sub-3% usage for 12 minutes confirms normal idle state.  </span>                    <span style=\"color: #008000; text-decoration-color: #008000\">│</span>\n",
       "<span style=\"color: #008000; text-decoration-color: #008000\">│</span>  <span style=\"color: #00ff00; text-decoration-color: #00ff00\">4. **Late Increase**: Gradual rise to 2.74% may indicate background services ramping up (e.g., scheduled </span>      <span style=\"color: #008000; text-decoration-color: #008000\">│</span>\n",
       "<span style=\"color: #008000; text-decoration-color: #008000\">│</span>  <span style=\"color: #00ff00; text-decoration-color: #00ff00\">tasks).  </span>                                                                                                      <span style=\"color: #008000; text-decoration-color: #008000\">│</span>\n",
       "<span style=\"color: #008000; text-decoration-color: #008000\">│</span>                                                                                                                 <span style=\"color: #008000; text-decoration-color: #008000\">│</span>\n",
       "<span style=\"color: #008000; text-decoration-color: #008000\">│</span>  <span style=\"color: #00ff00; text-decoration-color: #00ff00\">**Actionable Recommendations**:  </span>                                                                              <span style=\"color: #008000; text-decoration-color: #008000\">│</span>\n",
       "<span style=\"color: #008000; text-decoration-color: #008000\">│</span>  <span style=\"color: #00ff00; text-decoration-color: #00ff00\">1. **Investigate Root Cause**:  </span>                                                                               <span style=\"color: #008000; text-decoration-color: #008000\">│</span>\n",
       "<span style=\"color: #008000; text-decoration-color: #008000\">│</span>  <span style=\"color: #00ff00; text-decoration-color: #00ff00\">   - Check system logs (e.g., `journalctl`, `top` history) at **7:13 AM IST** for processes consuming 94.79% </span>  <span style=\"color: #008000; text-decoration-color: #008000\">│</span>\n",
       "<span style=\"color: #008000; text-decoration-color: #008000\">│</span>  <span style=\"color: #00ff00; text-decoration-color: #00ff00\">CPU. Prioritize identifying if this was a one-time anomaly or recurring task (e.g., cron job).  </span>               <span style=\"color: #008000; text-decoration-color: #008000\">│</span>\n",
       "<span style=\"color: #008000; text-decoration-color: #008000\">│</span>  <span style=\"color: #00ff00; text-decoration-color: #00ff00\">2. **Optimize High-Load Processes**:  </span>                                                                         <span style=\"color: #008000; text-decoration-color: #008000\">│</span>\n",
       "<span style=\"color: #008000; text-decoration-color: #008000\">│</span>  <span style=\"color: #00ff00; text-decoration-color: #00ff00\">   - If the spike is intentional (e.g., nightly backup), reschedule it to off-peak hours or throttle CPU </span>      <span style=\"color: #008000; text-decoration-color: #008000\">│</span>\n",
       "<span style=\"color: #008000; text-decoration-color: #008000\">│</span>  <span style=\"color: #00ff00; text-decoration-color: #00ff00\">allocation using `cpulimit` or Kubernetes resource limits.  </span>                                                   <span style=\"color: #008000; text-decoration-color: #008000\">│</span>\n",
       "<span style=\"color: #008000; text-decoration-color: #008000\">│</span>  <span style=\"color: #00ff00; text-decoration-color: #00ff00\">3. **Implement Alerting**:  </span>                                                                                   <span style=\"color: #008000; text-decoration-color: #008000\">│</span>\n",
       "<span style=\"color: #008000; text-decoration-color: #008000\">│</span>  <span style=\"color: #00ff00; text-decoration-color: #00ff00\">   - Configure Prometheus alerts for CPU &gt;90% for &gt;2 minutes to detect future anomalies. Example rule: </span>        <span style=\"color: #008000; text-decoration-color: #008000\">│</span>\n",
       "<span style=\"color: #008000; text-decoration-color: #008000\">│</span>  <span style=\"color: #00ff00; text-decoration-color: #00ff00\">`alert: HighCPU, expr: 100 - (avg by (instance) (rate(node_cpu_seconds_total{mode=\"idle\"}[5m])) * 100) &gt; 90`.</span>  <span style=\"color: #008000; text-decoration-color: #008000\">│</span>\n",
       "<span style=\"color: #008000; text-decoration-color: #008000\">│</span>  <span style=\"color: #00ff00; text-decoration-color: #00ff00\">4. **Validate System Resilience**:  </span>                                                                           <span style=\"color: #008000; text-decoration-color: #008000\">│</span>\n",
       "<span style=\"color: #008000; text-decoration-color: #008000\">│</span>  <span style=\"color: #00ff00; text-decoration-color: #00ff00\">   - Test failover mechanisms during high-CPU scenarios to ensure service continuity (e.g., auto-scaling </span>      <span style=\"color: #008000; text-decoration-color: #008000\">│</span>\n",
       "<span style=\"color: #008000; text-decoration-color: #008000\">│</span>  <span style=\"color: #00ff00; text-decoration-color: #00ff00\">groups, redundant nodes).  </span>                                                                                    <span style=\"color: #008000; text-decoration-color: #008000\">│</span>\n",
       "<span style=\"color: #008000; text-decoration-color: #008000\">│</span>  <span style=\"color: #00ff00; text-decoration-color: #00ff00\">5. **Extend Monitoring Window**:  </span>                                                                             <span style=\"color: #008000; text-decoration-color: #008000\">│</span>\n",
       "<span style=\"color: #008000; text-decoration-color: #008000\">│</span>  <span style=\"color: #00ff00; text-decoration-color: #00ff00\">   - Refine the PromQL query to capture the full 7:00–8:00 AM IST window (e.g., adjust `start`/`end` </span>          <span style=\"color: #008000; text-decoration-color: #008000\">│</span>\n",
       "<span style=\"color: #008000; text-decoration-color: #008000\">│</span>  <span style=\"color: #00ff00; text-decoration-color: #00ff00\">parameters) to rule out missing data.  </span>                                                                        <span style=\"color: #008000; text-decoration-color: #008000\">│</span>\n",
       "<span style=\"color: #008000; text-decoration-color: #008000\">│</span>                                                                                                                 <span style=\"color: #008000; text-decoration-color: #008000\">│</span>\n",
       "<span style=\"color: #008000; text-decoration-color: #008000\">│</span>  <span style=\"color: #00ff00; text-decoration-color: #00ff00\">**Urgency Assessment**:  </span>                                                                                      <span style=\"color: #008000; text-decoration-color: #008000\">│</span>\n",
       "<span style=\"color: #008000; text-decoration-color: #008000\">│</span>  <span style=\"color: #00ff00; text-decoration-color: #00ff00\">- **High Priority**: The 94.79% spike risks system instability. Immediate log review is critical to prevent </span>   <span style=\"color: #008000; text-decoration-color: #008000\">│</span>\n",
       "<span style=\"color: #008000; text-decoration-color: #008000\">│</span>  <span style=\"color: #00ff00; text-decoration-color: #00ff00\">recurrence.  </span>                                                                                                  <span style=\"color: #008000; text-decoration-color: #008000\">│</span>\n",
       "<span style=\"color: #008000; text-decoration-color: #008000\">│</span>  <span style=\"color: #00ff00; text-decoration-color: #00ff00\">- **Low Risk**: Post-spike stability (1.3–2.7% usage) confirms no ongoing degradation.  </span>                       <span style=\"color: #008000; text-decoration-color: #008000\">│</span>\n",
       "<span style=\"color: #008000; text-decoration-color: #008000\">│</span>                                                                                                                 <span style=\"color: #008000; text-decoration-color: #008000\">│</span>\n",
       "<span style=\"color: #008000; text-decoration-color: #008000\">│</span>  <span style=\"color: #00ff00; text-decoration-color: #00ff00\">*Recommend closing the loop within 24 hours by validating logs and adjusting schedules if needed.*</span>             <span style=\"color: #008000; text-decoration-color: #008000\">│</span>\n",
       "<span style=\"color: #008000; text-decoration-color: #008000\">│</span>                                                                                                                 <span style=\"color: #008000; text-decoration-color: #008000\">│</span>\n",
       "<span style=\"color: #008000; text-decoration-color: #008000\">╰─────────────────────────────────────────────────────────────────────────────────────────────────────────────────╯</span>\n",
       "</pre>\n"
      ],
      "text/plain": [
       "\u001b[32m╭─\u001b[0m\u001b[32m────────────────────────────────────────────\u001b[0m\u001b[32m ✅ Agent Final Answer \u001b[0m\u001b[32m────────────────────────────────────────────\u001b[0m\u001b[32m─╮\u001b[0m\n",
       "\u001b[32m│\u001b[0m                                                                                                                 \u001b[32m│\u001b[0m\n",
       "\u001b[32m│\u001b[0m  \u001b[37mAgent: \u001b[0m\u001b[1;92manalyzer\u001b[0m                                                                                                \u001b[32m│\u001b[0m\n",
       "\u001b[32m│\u001b[0m                                                                                                                 \u001b[32m│\u001b[0m\n",
       "\u001b[32m│\u001b[0m  \u001b[37mFinal Answer:\u001b[0m                                                                                                  \u001b[32m│\u001b[0m\n",
       "\u001b[32m│\u001b[0m  \u001b[92m**CPU Usage Analysis for September 1, 2025 (7:00–8:00 AM IST)**  \u001b[0m                                              \u001b[32m│\u001b[0m\n",
       "\u001b[32m│\u001b[0m  \u001b[92m*Note: Data covers 6:43–7:00 AM IST (17 minutes) due to query constraints. Timestamps align with UTC+5:30 \u001b[0m     \u001b[32m│\u001b[0m\n",
       "\u001b[32m│\u001b[0m  \u001b[92m(IST).*  \u001b[0m                                                                                                      \u001b[32m│\u001b[0m\n",
       "\u001b[32m│\u001b[0m                                                                                                                 \u001b[32m│\u001b[0m\n",
       "\u001b[32m│\u001b[0m  \u001b[92m**Key Statistics**:  \u001b[0m                                                                                          \u001b[32m│\u001b[0m\n",
       "\u001b[32m│\u001b[0m  \u001b[92m- **Peak Usage**: 94.79% (7:13 AM IST) – critical threshold exceeded.  \u001b[0m                                        \u001b[32m│\u001b[0m\n",
       "\u001b[32m│\u001b[0m  \u001b[92m- **Lowest Usage**: 1.31% (7:23 AM IST) – stable baseline.  \u001b[0m                                                   \u001b[32m│\u001b[0m\n",
       "\u001b[32m│\u001b[0m  \u001b[92m- **Average Usage**: 16.67% – skewed by initial spike.  \u001b[0m                                                       \u001b[32m│\u001b[0m\n",
       "\u001b[32m│\u001b[0m  \u001b[92m- **Trend**: Sharp decline from 94.79% → 1.31% within 10 minutes, followed by gradual rise to 2.74% by 7:30 \u001b[0m   \u001b[32m│\u001b[0m\n",
       "\u001b[32m│\u001b[0m  \u001b[92mAM IST.  \u001b[0m                                                                                                      \u001b[32m│\u001b[0m\n",
       "\u001b[32m│\u001b[0m  \u001b[92m- **Duration of High Load**: 5 minutes (7:13–7:18 AM IST) above 15% usage.  \u001b[0m                                   \u001b[32m│\u001b[0m\n",
       "\u001b[32m│\u001b[0m                                                                                                                 \u001b[32m│\u001b[0m\n",
       "\u001b[32m│\u001b[0m  \u001b[92m**Critical Observations**:  \u001b[0m                                                                                   \u001b[32m│\u001b[0m\n",
       "\u001b[32m│\u001b[0m  \u001b[92m1. **Critical Spike**: CPU usage surged to 94.79% at the start of the window, indicating a resource-intensive\u001b[0m  \u001b[32m│\u001b[0m\n",
       "\u001b[32m│\u001b[0m  \u001b[92mprocess (e.g., batch job, backup, or unoptimized service).  \u001b[0m                                                   \u001b[32m│\u001b[0m\n",
       "\u001b[32m│\u001b[0m  \u001b[92m2. **Rapid Recovery**: Drop to 1.5% within 10 minutes suggests the process completed or was terminated \u001b[0m        \u001b[32m│\u001b[0m\n",
       "\u001b[32m│\u001b[0m  \u001b[92mabruptly.  \u001b[0m                                                                                                    \u001b[32m│\u001b[0m\n",
       "\u001b[32m│\u001b[0m  \u001b[92m3. **Stable Baseline**: Sustained sub-3% usage for 12 minutes confirms normal idle state.  \u001b[0m                    \u001b[32m│\u001b[0m\n",
       "\u001b[32m│\u001b[0m  \u001b[92m4. **Late Increase**: Gradual rise to 2.74% may indicate background services ramping up (e.g., scheduled \u001b[0m      \u001b[32m│\u001b[0m\n",
       "\u001b[32m│\u001b[0m  \u001b[92mtasks).  \u001b[0m                                                                                                      \u001b[32m│\u001b[0m\n",
       "\u001b[32m│\u001b[0m                                                                                                                 \u001b[32m│\u001b[0m\n",
       "\u001b[32m│\u001b[0m  \u001b[92m**Actionable Recommendations**:  \u001b[0m                                                                              \u001b[32m│\u001b[0m\n",
       "\u001b[32m│\u001b[0m  \u001b[92m1. **Investigate Root Cause**:  \u001b[0m                                                                               \u001b[32m│\u001b[0m\n",
       "\u001b[32m│\u001b[0m  \u001b[92m   - Check system logs (e.g., `journalctl`, `top` history) at **7:13 AM IST** for processes consuming 94.79% \u001b[0m  \u001b[32m│\u001b[0m\n",
       "\u001b[32m│\u001b[0m  \u001b[92mCPU. Prioritize identifying if this was a one-time anomaly or recurring task (e.g., cron job).  \u001b[0m               \u001b[32m│\u001b[0m\n",
       "\u001b[32m│\u001b[0m  \u001b[92m2. **Optimize High-Load Processes**:  \u001b[0m                                                                         \u001b[32m│\u001b[0m\n",
       "\u001b[32m│\u001b[0m  \u001b[92m   - If the spike is intentional (e.g., nightly backup), reschedule it to off-peak hours or throttle CPU \u001b[0m      \u001b[32m│\u001b[0m\n",
       "\u001b[32m│\u001b[0m  \u001b[92mallocation using `cpulimit` or Kubernetes resource limits.  \u001b[0m                                                   \u001b[32m│\u001b[0m\n",
       "\u001b[32m│\u001b[0m  \u001b[92m3. **Implement Alerting**:  \u001b[0m                                                                                   \u001b[32m│\u001b[0m\n",
       "\u001b[32m│\u001b[0m  \u001b[92m   - Configure Prometheus alerts for CPU >90% for >2 minutes to detect future anomalies. Example rule: \u001b[0m        \u001b[32m│\u001b[0m\n",
       "\u001b[32m│\u001b[0m  \u001b[92m`alert: HighCPU, expr: 100 - (avg by (instance) (rate(node_cpu_seconds_total{mode=\"idle\"}[5m])) * 100) > 90`.\u001b[0m  \u001b[32m│\u001b[0m\n",
       "\u001b[32m│\u001b[0m  \u001b[92m4. **Validate System Resilience**:  \u001b[0m                                                                           \u001b[32m│\u001b[0m\n",
       "\u001b[32m│\u001b[0m  \u001b[92m   - Test failover mechanisms during high-CPU scenarios to ensure service continuity (e.g., auto-scaling \u001b[0m      \u001b[32m│\u001b[0m\n",
       "\u001b[32m│\u001b[0m  \u001b[92mgroups, redundant nodes).  \u001b[0m                                                                                    \u001b[32m│\u001b[0m\n",
       "\u001b[32m│\u001b[0m  \u001b[92m5. **Extend Monitoring Window**:  \u001b[0m                                                                             \u001b[32m│\u001b[0m\n",
       "\u001b[32m│\u001b[0m  \u001b[92m   - Refine the PromQL query to capture the full 7:00–8:00 AM IST window (e.g., adjust `start`/`end` \u001b[0m          \u001b[32m│\u001b[0m\n",
       "\u001b[32m│\u001b[0m  \u001b[92mparameters) to rule out missing data.  \u001b[0m                                                                        \u001b[32m│\u001b[0m\n",
       "\u001b[32m│\u001b[0m                                                                                                                 \u001b[32m│\u001b[0m\n",
       "\u001b[32m│\u001b[0m  \u001b[92m**Urgency Assessment**:  \u001b[0m                                                                                      \u001b[32m│\u001b[0m\n",
       "\u001b[32m│\u001b[0m  \u001b[92m- **High Priority**: The 94.79% spike risks system instability. Immediate log review is critical to prevent \u001b[0m   \u001b[32m│\u001b[0m\n",
       "\u001b[32m│\u001b[0m  \u001b[92mrecurrence.  \u001b[0m                                                                                                  \u001b[32m│\u001b[0m\n",
       "\u001b[32m│\u001b[0m  \u001b[92m- **Low Risk**: Post-spike stability (1.3–2.7% usage) confirms no ongoing degradation.  \u001b[0m                       \u001b[32m│\u001b[0m\n",
       "\u001b[32m│\u001b[0m                                                                                                                 \u001b[32m│\u001b[0m\n",
       "\u001b[32m│\u001b[0m  \u001b[92m*Recommend closing the loop within 24 hours by validating logs and adjusting schedules if needed.*\u001b[0m             \u001b[32m│\u001b[0m\n",
       "\u001b[32m│\u001b[0m                                                                                                                 \u001b[32m│\u001b[0m\n",
       "\u001b[32m╰─────────────────────────────────────────────────────────────────────────────────────────────────────────────────╯\u001b[0m\n"
      ]
     },
     "metadata": {},
     "output_type": "display_data"
    },
    {
     "data": {
      "text/html": [
       "<pre style=\"white-space:pre;overflow-x:auto;line-height:normal;font-family:Menlo,'DejaVu Sans Mono',consolas,'Courier New',monospace\">\n",
       "</pre>\n"
      ],
      "text/plain": [
       "\n"
      ]
     },
     "metadata": {},
     "output_type": "display_data"
    },
    {
     "data": {
      "text/html": [
       "<pre style=\"white-space:pre;overflow-x:auto;line-height:normal;font-family:Menlo,'DejaVu Sans Mono',consolas,'Courier New',monospace\"></pre>\n"
      ],
      "text/plain": []
     },
     "metadata": {},
     "output_type": "display_data"
    },
    {
     "data": {
      "text/html": [
       "<pre style=\"white-space:pre;overflow-x:auto;line-height:normal;font-family:Menlo,'DejaVu Sans Mono',consolas,'Courier New',monospace\"><span style=\"color: #008000; text-decoration-color: #008000\">╭──────────────────────────────────────────────── Task Completion ────────────────────────────────────────────────╮</span>\n",
       "<span style=\"color: #008000; text-decoration-color: #008000\">│</span>                                                                                                                 <span style=\"color: #008000; text-decoration-color: #008000\">│</span>\n",
       "<span style=\"color: #008000; text-decoration-color: #008000\">│</span>  <span style=\"color: #008000; text-decoration-color: #008000; font-weight: bold\">Task Completed</span>                                                                                                 <span style=\"color: #008000; text-decoration-color: #008000\">│</span>\n",
       "<span style=\"color: #008000; text-decoration-color: #008000\">│</span>  <span style=\"color: #c0c0c0; text-decoration-color: #c0c0c0\">Name: </span><span style=\"color: #008000; text-decoration-color: #008000\">79addfe3-82b6-4de4-be02-16368bc2de59</span>                                                                     <span style=\"color: #008000; text-decoration-color: #008000\">│</span>\n",
       "<span style=\"color: #008000; text-decoration-color: #008000\">│</span>  <span style=\"color: #c0c0c0; text-decoration-color: #c0c0c0\">Agent: </span><span style=\"color: #008000; text-decoration-color: #008000\">analyzer</span>                                                                                                <span style=\"color: #008000; text-decoration-color: #008000\">│</span>\n",
       "<span style=\"color: #008000; text-decoration-color: #008000\">│</span>  <span style=\"color: #c0c0c0; text-decoration-color: #c0c0c0\">Tool Args: </span>                                                                                                    <span style=\"color: #008000; text-decoration-color: #008000\">│</span>\n",
       "<span style=\"color: #008000; text-decoration-color: #008000\">│</span>                                                                                                                 <span style=\"color: #008000; text-decoration-color: #008000\">│</span>\n",
       "<span style=\"color: #008000; text-decoration-color: #008000\">│</span>                                                                                                                 <span style=\"color: #008000; text-decoration-color: #008000\">│</span>\n",
       "<span style=\"color: #008000; text-decoration-color: #008000\">╰─────────────────────────────────────────────────────────────────────────────────────────────────────────────────╯</span>\n",
       "</pre>\n"
      ],
      "text/plain": [
       "\u001b[32m╭─\u001b[0m\u001b[32m───────────────────────────────────────────────\u001b[0m\u001b[32m Task Completion \u001b[0m\u001b[32m───────────────────────────────────────────────\u001b[0m\u001b[32m─╮\u001b[0m\n",
       "\u001b[32m│\u001b[0m                                                                                                                 \u001b[32m│\u001b[0m\n",
       "\u001b[32m│\u001b[0m  \u001b[1;32mTask Completed\u001b[0m                                                                                                 \u001b[32m│\u001b[0m\n",
       "\u001b[32m│\u001b[0m  \u001b[37mName: \u001b[0m\u001b[32m79addfe3-82b6-4de4-be02-16368bc2de59\u001b[0m                                                                     \u001b[32m│\u001b[0m\n",
       "\u001b[32m│\u001b[0m  \u001b[37mAgent: \u001b[0m\u001b[32manalyzer\u001b[0m                                                                                                \u001b[32m│\u001b[0m\n",
       "\u001b[32m│\u001b[0m  \u001b[37mTool Args: \u001b[0m                                                                                                    \u001b[32m│\u001b[0m\n",
       "\u001b[32m│\u001b[0m                                                                                                                 \u001b[32m│\u001b[0m\n",
       "\u001b[32m│\u001b[0m                                                                                                                 \u001b[32m│\u001b[0m\n",
       "\u001b[32m╰─────────────────────────────────────────────────────────────────────────────────────────────────────────────────╯\u001b[0m\n"
      ]
     },
     "metadata": {},
     "output_type": "display_data"
    },
    {
     "data": {
      "text/html": [
       "<pre style=\"white-space:pre;overflow-x:auto;line-height:normal;font-family:Menlo,'DejaVu Sans Mono',consolas,'Courier New',monospace\">\n",
       "</pre>\n"
      ],
      "text/plain": [
       "\n"
      ]
     },
     "metadata": {},
     "output_type": "display_data"
    },
    {
     "data": {
      "text/html": [
       "<pre style=\"white-space:pre;overflow-x:auto;line-height:normal;font-family:Menlo,'DejaVu Sans Mono',consolas,'Courier New',monospace\"><span style=\"color: #008000; text-decoration-color: #008000\">╭──────────────────────────────────────────────── Crew Completion ────────────────────────────────────────────────╮</span>\n",
       "<span style=\"color: #008000; text-decoration-color: #008000\">│</span>                                                                                                                 <span style=\"color: #008000; text-decoration-color: #008000\">│</span>\n",
       "<span style=\"color: #008000; text-decoration-color: #008000\">│</span>  <span style=\"color: #008000; text-decoration-color: #008000; font-weight: bold\">Crew Execution Completed</span>                                                                                       <span style=\"color: #008000; text-decoration-color: #008000\">│</span>\n",
       "<span style=\"color: #008000; text-decoration-color: #008000\">│</span>  <span style=\"color: #c0c0c0; text-decoration-color: #c0c0c0\">Name: </span><span style=\"color: #008000; text-decoration-color: #008000\">crew</span>                                                                                                     <span style=\"color: #008000; text-decoration-color: #008000\">│</span>\n",
       "<span style=\"color: #008000; text-decoration-color: #008000\">│</span>  <span style=\"color: #c0c0c0; text-decoration-color: #c0c0c0\">ID: </span><span style=\"color: #008000; text-decoration-color: #008000\">d18570a2-6779-4cc7-92fc-a298f5d6c7a9</span>                                                                       <span style=\"color: #008000; text-decoration-color: #008000\">│</span>\n",
       "<span style=\"color: #008000; text-decoration-color: #008000\">│</span>  <span style=\"color: #c0c0c0; text-decoration-color: #c0c0c0\">Tool Args: </span>                                                                                                    <span style=\"color: #008000; text-decoration-color: #008000\">│</span>\n",
       "<span style=\"color: #008000; text-decoration-color: #008000\">│</span>  <span style=\"color: #c0c0c0; text-decoration-color: #c0c0c0\">Final Output: **CPU Usage Analysis for September 1, 2025 (7:00–8:00 AM IST)**  </span>                                <span style=\"color: #008000; text-decoration-color: #008000\">│</span>\n",
       "<span style=\"color: #008000; text-decoration-color: #008000\">│</span>  <span style=\"color: #c0c0c0; text-decoration-color: #c0c0c0\">*Note: Data covers 6:43–7:00 AM IST (17 minutes) due to query constraints. Timestamps align with UTC+5:30 </span>     <span style=\"color: #008000; text-decoration-color: #008000\">│</span>\n",
       "<span style=\"color: #008000; text-decoration-color: #008000\">│</span>  <span style=\"color: #c0c0c0; text-decoration-color: #c0c0c0\">(IST).*  </span>                                                                                                      <span style=\"color: #008000; text-decoration-color: #008000\">│</span>\n",
       "<span style=\"color: #008000; text-decoration-color: #008000\">│</span>                                                                                                                 <span style=\"color: #008000; text-decoration-color: #008000\">│</span>\n",
       "<span style=\"color: #008000; text-decoration-color: #008000\">│</span>  <span style=\"color: #c0c0c0; text-decoration-color: #c0c0c0\">**Key Statistics**:  </span>                                                                                          <span style=\"color: #008000; text-decoration-color: #008000\">│</span>\n",
       "<span style=\"color: #008000; text-decoration-color: #008000\">│</span>  <span style=\"color: #c0c0c0; text-decoration-color: #c0c0c0\">- **Peak Usage**: 94.79% (7:13 AM IST) – critical threshold exceeded.  </span>                                        <span style=\"color: #008000; text-decoration-color: #008000\">│</span>\n",
       "<span style=\"color: #008000; text-decoration-color: #008000\">│</span>  <span style=\"color: #c0c0c0; text-decoration-color: #c0c0c0\">- **Lowest Usage**: 1.31% (7:23 AM IST) – stable baseline.  </span>                                                   <span style=\"color: #008000; text-decoration-color: #008000\">│</span>\n",
       "<span style=\"color: #008000; text-decoration-color: #008000\">│</span>  <span style=\"color: #c0c0c0; text-decoration-color: #c0c0c0\">- **Average Usage**: 16.67% – skewed by initial spike.  </span>                                                       <span style=\"color: #008000; text-decoration-color: #008000\">│</span>\n",
       "<span style=\"color: #008000; text-decoration-color: #008000\">│</span>  <span style=\"color: #c0c0c0; text-decoration-color: #c0c0c0\">- **Trend**: Sharp decline from 94.79% → 1.31% within 10 minutes, followed by gradual rise to 2.74% by 7:30 </span>   <span style=\"color: #008000; text-decoration-color: #008000\">│</span>\n",
       "<span style=\"color: #008000; text-decoration-color: #008000\">│</span>  <span style=\"color: #c0c0c0; text-decoration-color: #c0c0c0\">AM IST.  </span>                                                                                                      <span style=\"color: #008000; text-decoration-color: #008000\">│</span>\n",
       "<span style=\"color: #008000; text-decoration-color: #008000\">│</span>  <span style=\"color: #c0c0c0; text-decoration-color: #c0c0c0\">- **Duration of High Load**: 5 minutes (7:13–7:18 AM IST) above 15% usage.  </span>                                   <span style=\"color: #008000; text-decoration-color: #008000\">│</span>\n",
       "<span style=\"color: #008000; text-decoration-color: #008000\">│</span>                                                                                                                 <span style=\"color: #008000; text-decoration-color: #008000\">│</span>\n",
       "<span style=\"color: #008000; text-decoration-color: #008000\">│</span>  <span style=\"color: #c0c0c0; text-decoration-color: #c0c0c0\">**Critical Observations**:  </span>                                                                                   <span style=\"color: #008000; text-decoration-color: #008000\">│</span>\n",
       "<span style=\"color: #008000; text-decoration-color: #008000\">│</span>  <span style=\"color: #c0c0c0; text-decoration-color: #c0c0c0\">1. **Critical Spike**: CPU usage surged to 94.79% at the start of the window, indicating a resource-intensive</span>  <span style=\"color: #008000; text-decoration-color: #008000\">│</span>\n",
       "<span style=\"color: #008000; text-decoration-color: #008000\">│</span>  <span style=\"color: #c0c0c0; text-decoration-color: #c0c0c0\">process (e.g., batch job, backup, or unoptimized service).  </span>                                                   <span style=\"color: #008000; text-decoration-color: #008000\">│</span>\n",
       "<span style=\"color: #008000; text-decoration-color: #008000\">│</span>  <span style=\"color: #c0c0c0; text-decoration-color: #c0c0c0\">2. **Rapid Recovery**: Drop to 1.5% within 10 minutes suggests the process completed or was terminated </span>        <span style=\"color: #008000; text-decoration-color: #008000\">│</span>\n",
       "<span style=\"color: #008000; text-decoration-color: #008000\">│</span>  <span style=\"color: #c0c0c0; text-decoration-color: #c0c0c0\">abruptly.  </span>                                                                                                    <span style=\"color: #008000; text-decoration-color: #008000\">│</span>\n",
       "<span style=\"color: #008000; text-decoration-color: #008000\">│</span>  <span style=\"color: #c0c0c0; text-decoration-color: #c0c0c0\">3. **Stable Baseline**: Sustained sub-3% usage for 12 minutes confirms normal idle state.  </span>                    <span style=\"color: #008000; text-decoration-color: #008000\">│</span>\n",
       "<span style=\"color: #008000; text-decoration-color: #008000\">│</span>  <span style=\"color: #c0c0c0; text-decoration-color: #c0c0c0\">4. **Late Increase**: Gradual rise to 2.74% may indicate background services ramping up (e.g., scheduled </span>      <span style=\"color: #008000; text-decoration-color: #008000\">│</span>\n",
       "<span style=\"color: #008000; text-decoration-color: #008000\">│</span>  <span style=\"color: #c0c0c0; text-decoration-color: #c0c0c0\">tasks).  </span>                                                                                                      <span style=\"color: #008000; text-decoration-color: #008000\">│</span>\n",
       "<span style=\"color: #008000; text-decoration-color: #008000\">│</span>                                                                                                                 <span style=\"color: #008000; text-decoration-color: #008000\">│</span>\n",
       "<span style=\"color: #008000; text-decoration-color: #008000\">│</span>  <span style=\"color: #c0c0c0; text-decoration-color: #c0c0c0\">**Actionable Recommendations**:  </span>                                                                              <span style=\"color: #008000; text-decoration-color: #008000\">│</span>\n",
       "<span style=\"color: #008000; text-decoration-color: #008000\">│</span>  <span style=\"color: #c0c0c0; text-decoration-color: #c0c0c0\">1. **Investigate Root Cause**:  </span>                                                                               <span style=\"color: #008000; text-decoration-color: #008000\">│</span>\n",
       "<span style=\"color: #008000; text-decoration-color: #008000\">│</span>  <span style=\"color: #c0c0c0; text-decoration-color: #c0c0c0\">   - Check system logs (e.g., `journalctl`, `top` history) at **7:13 AM IST** for processes consuming 94.79% </span>  <span style=\"color: #008000; text-decoration-color: #008000\">│</span>\n",
       "<span style=\"color: #008000; text-decoration-color: #008000\">│</span>  <span style=\"color: #c0c0c0; text-decoration-color: #c0c0c0\">CPU. Prioritize identifying if this was a one-time anomaly or recurring task (e.g., cron job).  </span>               <span style=\"color: #008000; text-decoration-color: #008000\">│</span>\n",
       "<span style=\"color: #008000; text-decoration-color: #008000\">│</span>  <span style=\"color: #c0c0c0; text-decoration-color: #c0c0c0\">2. **Optimize High-Load Processes**:  </span>                                                                         <span style=\"color: #008000; text-decoration-color: #008000\">│</span>\n",
       "<span style=\"color: #008000; text-decoration-color: #008000\">│</span>  <span style=\"color: #c0c0c0; text-decoration-color: #c0c0c0\">   - If the spike is intentional (e.g., nightly backup), reschedule it to off-peak hours or throttle CPU </span>      <span style=\"color: #008000; text-decoration-color: #008000\">│</span>\n",
       "<span style=\"color: #008000; text-decoration-color: #008000\">│</span>  <span style=\"color: #c0c0c0; text-decoration-color: #c0c0c0\">allocation using `cpulimit` or Kubernetes resource limits.  </span>                                                   <span style=\"color: #008000; text-decoration-color: #008000\">│</span>\n",
       "<span style=\"color: #008000; text-decoration-color: #008000\">│</span>  <span style=\"color: #c0c0c0; text-decoration-color: #c0c0c0\">3. **Implement Alerting**:  </span>                                                                                   <span style=\"color: #008000; text-decoration-color: #008000\">│</span>\n",
       "<span style=\"color: #008000; text-decoration-color: #008000\">│</span>  <span style=\"color: #c0c0c0; text-decoration-color: #c0c0c0\">   - Configure Prometheus alerts for CPU &gt;90% for &gt;2 minutes to detect future anomalies. Example rule: </span>        <span style=\"color: #008000; text-decoration-color: #008000\">│</span>\n",
       "<span style=\"color: #008000; text-decoration-color: #008000\">│</span>  <span style=\"color: #c0c0c0; text-decoration-color: #c0c0c0\">`alert: HighCPU, expr: 100 - (avg by (instance) (rate(node_cpu_seconds_total{mode=\"idle\"}[5m])) * 100) &gt; 90`.</span>  <span style=\"color: #008000; text-decoration-color: #008000\">│</span>\n",
       "<span style=\"color: #008000; text-decoration-color: #008000\">│</span>  <span style=\"color: #c0c0c0; text-decoration-color: #c0c0c0\">4. **Validate System Resilience**:  </span>                                                                           <span style=\"color: #008000; text-decoration-color: #008000\">│</span>\n",
       "<span style=\"color: #008000; text-decoration-color: #008000\">│</span>  <span style=\"color: #c0c0c0; text-decoration-color: #c0c0c0\">   - Test failover mechanisms during high-CPU scenarios to ensure service continuity (e.g., auto-scaling </span>      <span style=\"color: #008000; text-decoration-color: #008000\">│</span>\n",
       "<span style=\"color: #008000; text-decoration-color: #008000\">│</span>  <span style=\"color: #c0c0c0; text-decoration-color: #c0c0c0\">groups, redundant nodes).  </span>                                                                                    <span style=\"color: #008000; text-decoration-color: #008000\">│</span>\n",
       "<span style=\"color: #008000; text-decoration-color: #008000\">│</span>  <span style=\"color: #c0c0c0; text-decoration-color: #c0c0c0\">5. **Extend Monitoring Window**:  </span>                                                                             <span style=\"color: #008000; text-decoration-color: #008000\">│</span>\n",
       "<span style=\"color: #008000; text-decoration-color: #008000\">│</span>  <span style=\"color: #c0c0c0; text-decoration-color: #c0c0c0\">   - Refine the PromQL query to capture the full 7:00–8:00 AM IST window (e.g., adjust `start`/`end` </span>          <span style=\"color: #008000; text-decoration-color: #008000\">│</span>\n",
       "<span style=\"color: #008000; text-decoration-color: #008000\">│</span>  <span style=\"color: #c0c0c0; text-decoration-color: #c0c0c0\">parameters) to rule out missing data.  </span>                                                                        <span style=\"color: #008000; text-decoration-color: #008000\">│</span>\n",
       "<span style=\"color: #008000; text-decoration-color: #008000\">│</span>                                                                                                                 <span style=\"color: #008000; text-decoration-color: #008000\">│</span>\n",
       "<span style=\"color: #008000; text-decoration-color: #008000\">│</span>  <span style=\"color: #c0c0c0; text-decoration-color: #c0c0c0\">**Urgency Assessment**:  </span>                                                                                      <span style=\"color: #008000; text-decoration-color: #008000\">│</span>\n",
       "<span style=\"color: #008000; text-decoration-color: #008000\">│</span>  <span style=\"color: #c0c0c0; text-decoration-color: #c0c0c0\">- **High Priority**: The 94.79% spike risks system instability. Immediate log review is critical to prevent </span>   <span style=\"color: #008000; text-decoration-color: #008000\">│</span>\n",
       "<span style=\"color: #008000; text-decoration-color: #008000\">│</span>  <span style=\"color: #c0c0c0; text-decoration-color: #c0c0c0\">recurrence.  </span>                                                                                                  <span style=\"color: #008000; text-decoration-color: #008000\">│</span>\n",
       "<span style=\"color: #008000; text-decoration-color: #008000\">│</span>  <span style=\"color: #c0c0c0; text-decoration-color: #c0c0c0\">- **Low Risk**: Post-spike stability (1.3–2.7% usage) confirms no ongoing degradation.  </span>                       <span style=\"color: #008000; text-decoration-color: #008000\">│</span>\n",
       "<span style=\"color: #008000; text-decoration-color: #008000\">│</span>                                                                                                                 <span style=\"color: #008000; text-decoration-color: #008000\">│</span>\n",
       "<span style=\"color: #008000; text-decoration-color: #008000\">│</span>  <span style=\"color: #c0c0c0; text-decoration-color: #c0c0c0\">*Recommend closing the loop within 24 hours by validating logs and adjusting schedules if needed.*</span>             <span style=\"color: #008000; text-decoration-color: #008000\">│</span>\n",
       "<span style=\"color: #008000; text-decoration-color: #008000\">│</span>                                                                                                                 <span style=\"color: #008000; text-decoration-color: #008000\">│</span>\n",
       "<span style=\"color: #008000; text-decoration-color: #008000\">│</span>                                                                                                                 <span style=\"color: #008000; text-decoration-color: #008000\">│</span>\n",
       "<span style=\"color: #008000; text-decoration-color: #008000\">╰─────────────────────────────────────────────────────────────────────────────────────────────────────────────────╯</span>\n",
       "</pre>\n"
      ],
      "text/plain": [
       "\u001b[32m╭─\u001b[0m\u001b[32m───────────────────────────────────────────────\u001b[0m\u001b[32m Crew Completion \u001b[0m\u001b[32m───────────────────────────────────────────────\u001b[0m\u001b[32m─╮\u001b[0m\n",
       "\u001b[32m│\u001b[0m                                                                                                                 \u001b[32m│\u001b[0m\n",
       "\u001b[32m│\u001b[0m  \u001b[1;32mCrew Execution Completed\u001b[0m                                                                                       \u001b[32m│\u001b[0m\n",
       "\u001b[32m│\u001b[0m  \u001b[37mName: \u001b[0m\u001b[32mcrew\u001b[0m                                                                                                     \u001b[32m│\u001b[0m\n",
       "\u001b[32m│\u001b[0m  \u001b[37mID: \u001b[0m\u001b[32md18570a2-6779-4cc7-92fc-a298f5d6c7a9\u001b[0m                                                                       \u001b[32m│\u001b[0m\n",
       "\u001b[32m│\u001b[0m  \u001b[37mTool Args: \u001b[0m                                                                                                    \u001b[32m│\u001b[0m\n",
       "\u001b[32m│\u001b[0m  \u001b[37mFinal Output: **CPU Usage Analysis for September 1, 2025 (7:00–8:00 AM IST)**  \u001b[0m                                \u001b[32m│\u001b[0m\n",
       "\u001b[32m│\u001b[0m  \u001b[37m*Note: Data covers 6:43–7:00 AM IST (17 minutes) due to query constraints. Timestamps align with UTC+5:30 \u001b[0m     \u001b[32m│\u001b[0m\n",
       "\u001b[32m│\u001b[0m  \u001b[37m(IST).*  \u001b[0m                                                                                                      \u001b[32m│\u001b[0m\n",
       "\u001b[32m│\u001b[0m                                                                                                                 \u001b[32m│\u001b[0m\n",
       "\u001b[32m│\u001b[0m  \u001b[37m**Key Statistics**:  \u001b[0m                                                                                          \u001b[32m│\u001b[0m\n",
       "\u001b[32m│\u001b[0m  \u001b[37m- **Peak Usage**: 94.79% (7:13 AM IST) – critical threshold exceeded.  \u001b[0m                                        \u001b[32m│\u001b[0m\n",
       "\u001b[32m│\u001b[0m  \u001b[37m- **Lowest Usage**: 1.31% (7:23 AM IST) – stable baseline.  \u001b[0m                                                   \u001b[32m│\u001b[0m\n",
       "\u001b[32m│\u001b[0m  \u001b[37m- **Average Usage**: 16.67% – skewed by initial spike.  \u001b[0m                                                       \u001b[32m│\u001b[0m\n",
       "\u001b[32m│\u001b[0m  \u001b[37m- **Trend**: Sharp decline from 94.79% → 1.31% within 10 minutes, followed by gradual rise to 2.74% by 7:30 \u001b[0m   \u001b[32m│\u001b[0m\n",
       "\u001b[32m│\u001b[0m  \u001b[37mAM IST.  \u001b[0m                                                                                                      \u001b[32m│\u001b[0m\n",
       "\u001b[32m│\u001b[0m  \u001b[37m- **Duration of High Load**: 5 minutes (7:13–7:18 AM IST) above 15% usage.  \u001b[0m                                   \u001b[32m│\u001b[0m\n",
       "\u001b[32m│\u001b[0m                                                                                                                 \u001b[32m│\u001b[0m\n",
       "\u001b[32m│\u001b[0m  \u001b[37m**Critical Observations**:  \u001b[0m                                                                                   \u001b[32m│\u001b[0m\n",
       "\u001b[32m│\u001b[0m  \u001b[37m1. **Critical Spike**: CPU usage surged to 94.79% at the start of the window, indicating a resource-intensive\u001b[0m  \u001b[32m│\u001b[0m\n",
       "\u001b[32m│\u001b[0m  \u001b[37mprocess (e.g., batch job, backup, or unoptimized service).  \u001b[0m                                                   \u001b[32m│\u001b[0m\n",
       "\u001b[32m│\u001b[0m  \u001b[37m2. **Rapid Recovery**: Drop to 1.5% within 10 minutes suggests the process completed or was terminated \u001b[0m        \u001b[32m│\u001b[0m\n",
       "\u001b[32m│\u001b[0m  \u001b[37mabruptly.  \u001b[0m                                                                                                    \u001b[32m│\u001b[0m\n",
       "\u001b[32m│\u001b[0m  \u001b[37m3. **Stable Baseline**: Sustained sub-3% usage for 12 minutes confirms normal idle state.  \u001b[0m                    \u001b[32m│\u001b[0m\n",
       "\u001b[32m│\u001b[0m  \u001b[37m4. **Late Increase**: Gradual rise to 2.74% may indicate background services ramping up (e.g., scheduled \u001b[0m      \u001b[32m│\u001b[0m\n",
       "\u001b[32m│\u001b[0m  \u001b[37mtasks).  \u001b[0m                                                                                                      \u001b[32m│\u001b[0m\n",
       "\u001b[32m│\u001b[0m                                                                                                                 \u001b[32m│\u001b[0m\n",
       "\u001b[32m│\u001b[0m  \u001b[37m**Actionable Recommendations**:  \u001b[0m                                                                              \u001b[32m│\u001b[0m\n",
       "\u001b[32m│\u001b[0m  \u001b[37m1. **Investigate Root Cause**:  \u001b[0m                                                                               \u001b[32m│\u001b[0m\n",
       "\u001b[32m│\u001b[0m  \u001b[37m   - Check system logs (e.g., `journalctl`, `top` history) at **7:13 AM IST** for processes consuming 94.79% \u001b[0m  \u001b[32m│\u001b[0m\n",
       "\u001b[32m│\u001b[0m  \u001b[37mCPU. Prioritize identifying if this was a one-time anomaly or recurring task (e.g., cron job).  \u001b[0m               \u001b[32m│\u001b[0m\n",
       "\u001b[32m│\u001b[0m  \u001b[37m2. **Optimize High-Load Processes**:  \u001b[0m                                                                         \u001b[32m│\u001b[0m\n",
       "\u001b[32m│\u001b[0m  \u001b[37m   - If the spike is intentional (e.g., nightly backup), reschedule it to off-peak hours or throttle CPU \u001b[0m      \u001b[32m│\u001b[0m\n",
       "\u001b[32m│\u001b[0m  \u001b[37mallocation using `cpulimit` or Kubernetes resource limits.  \u001b[0m                                                   \u001b[32m│\u001b[0m\n",
       "\u001b[32m│\u001b[0m  \u001b[37m3. **Implement Alerting**:  \u001b[0m                                                                                   \u001b[32m│\u001b[0m\n",
       "\u001b[32m│\u001b[0m  \u001b[37m   - Configure Prometheus alerts for CPU >90% for >2 minutes to detect future anomalies. Example rule: \u001b[0m        \u001b[32m│\u001b[0m\n",
       "\u001b[32m│\u001b[0m  \u001b[37m`alert: HighCPU, expr: 100 - (avg by (instance) (rate(node_cpu_seconds_total{mode=\"idle\"}[5m])) * 100) > 90`.\u001b[0m  \u001b[32m│\u001b[0m\n",
       "\u001b[32m│\u001b[0m  \u001b[37m4. **Validate System Resilience**:  \u001b[0m                                                                           \u001b[32m│\u001b[0m\n",
       "\u001b[32m│\u001b[0m  \u001b[37m   - Test failover mechanisms during high-CPU scenarios to ensure service continuity (e.g., auto-scaling \u001b[0m      \u001b[32m│\u001b[0m\n",
       "\u001b[32m│\u001b[0m  \u001b[37mgroups, redundant nodes).  \u001b[0m                                                                                    \u001b[32m│\u001b[0m\n",
       "\u001b[32m│\u001b[0m  \u001b[37m5. **Extend Monitoring Window**:  \u001b[0m                                                                             \u001b[32m│\u001b[0m\n",
       "\u001b[32m│\u001b[0m  \u001b[37m   - Refine the PromQL query to capture the full 7:00–8:00 AM IST window (e.g., adjust `start`/`end` \u001b[0m          \u001b[32m│\u001b[0m\n",
       "\u001b[32m│\u001b[0m  \u001b[37mparameters) to rule out missing data.  \u001b[0m                                                                        \u001b[32m│\u001b[0m\n",
       "\u001b[32m│\u001b[0m                                                                                                                 \u001b[32m│\u001b[0m\n",
       "\u001b[32m│\u001b[0m  \u001b[37m**Urgency Assessment**:  \u001b[0m                                                                                      \u001b[32m│\u001b[0m\n",
       "\u001b[32m│\u001b[0m  \u001b[37m- **High Priority**: The 94.79% spike risks system instability. Immediate log review is critical to prevent \u001b[0m   \u001b[32m│\u001b[0m\n",
       "\u001b[32m│\u001b[0m  \u001b[37mrecurrence.  \u001b[0m                                                                                                  \u001b[32m│\u001b[0m\n",
       "\u001b[32m│\u001b[0m  \u001b[37m- **Low Risk**: Post-spike stability (1.3–2.7% usage) confirms no ongoing degradation.  \u001b[0m                       \u001b[32m│\u001b[0m\n",
       "\u001b[32m│\u001b[0m                                                                                                                 \u001b[32m│\u001b[0m\n",
       "\u001b[32m│\u001b[0m  \u001b[37m*Recommend closing the loop within 24 hours by validating logs and adjusting schedules if needed.*\u001b[0m             \u001b[32m│\u001b[0m\n",
       "\u001b[32m│\u001b[0m                                                                                                                 \u001b[32m│\u001b[0m\n",
       "\u001b[32m│\u001b[0m                                                                                                                 \u001b[32m│\u001b[0m\n",
       "\u001b[32m╰─────────────────────────────────────────────────────────────────────────────────────────────────────────────────╯\u001b[0m\n"
      ]
     },
     "metadata": {},
     "output_type": "display_data"
    },
    {
     "data": {
      "text/html": [
       "<pre style=\"white-space:pre;overflow-x:auto;line-height:normal;font-family:Menlo,'DejaVu Sans Mono',consolas,'Courier New',monospace\">\n",
       "</pre>\n"
      ],
      "text/plain": [
       "\n"
      ]
     },
     "metadata": {},
     "output_type": "display_data"
    },
    {
     "name": "stdout",
     "output_type": "stream",
     "text": [
      "**CPU Usage Analysis for September 1, 2025 (7:00–8:00 AM IST)**  \n",
      "*Note: Data covers 6:43–7:00 AM IST (17 minutes) due to query constraints. Timestamps align with UTC+5:30 (IST).*  \n",
      "\n",
      "**Key Statistics**:  \n",
      "- **Peak Usage**: 94.79% (7:13 AM IST) – critical threshold exceeded.  \n",
      "- **Lowest Usage**: 1.31% (7:23 AM IST) – stable baseline.  \n",
      "- **Average Usage**: 16.67% – skewed by initial spike.  \n",
      "- **Trend**: Sharp decline from 94.79% → 1.31% within 10 minutes, followed by gradual rise to 2.74% by 7:30 AM IST.  \n",
      "- **Duration of High Load**: 5 minutes (7:13–7:18 AM IST) above 15% usage.  \n",
      "\n",
      "**Critical Observations**:  \n",
      "1. **Critical Spike**: CPU usage surged to 94.79% at the start of the window, indicating a resource-intensive process (e.g., batch job, backup, or unoptimized service).  \n",
      "2. **Rapid Recovery**: Drop to 1.5% within 10 minutes suggests the process completed or was terminated abruptly.  \n",
      "3. **Stable Baseline**: Sustained sub-3% usage for 12 minutes confirms normal idle state.  \n",
      "4. **Late Increase**: Gradual rise to 2.74% may indicate background services ramping up (e.g., scheduled tasks).  \n",
      "\n",
      "**Actionable Recommendations**:  \n",
      "1. **Investigate Root Cause**:  \n",
      "   - Check system logs (e.g., `journalctl`, `top` history) at **7:13 AM IST** for processes consuming 94.79% CPU. Prioritize identifying if this was a one-time anomaly or recurring task (e.g., cron job).  \n",
      "2. **Optimize High-Load Processes**:  \n",
      "   - If the spike is intentional (e.g., nightly backup), reschedule it to off-peak hours or throttle CPU allocation using `cpulimit` or Kubernetes resource limits.  \n",
      "3. **Implement Alerting**:  \n",
      "   - Configure Prometheus alerts for CPU >90% for >2 minutes to detect future anomalies. Example rule: `alert: HighCPU, expr: 100 - (avg by (instance) (rate(node_cpu_seconds_total{mode=\"idle\"}[5m])) * 100) > 90`.  \n",
      "4. **Validate System Resilience**:  \n",
      "   - Test failover mechanisms during high-CPU scenarios to ensure service continuity (e.g., auto-scaling groups, redundant nodes).  \n",
      "5. **Extend Monitoring Window**:  \n",
      "   - Refine the PromQL query to capture the full 7:00–8:00 AM IST window (e.g., adjust `start`/`end` parameters) to rule out missing data.  \n",
      "\n",
      "**Urgency Assessment**:  \n",
      "- **High Priority**: The 94.79% spike risks system instability. Immediate log review is critical to prevent recurrence.  \n",
      "- **Low Risk**: Post-spike stability (1.3–2.7% usage) confirms no ongoing degradation.  \n",
      "\n",
      "*Recommend closing the loop within 24 hours by validating logs and adjusting schedules if needed.* <class 'crewai.crews.crew_output.CrewOutput'>\n"
     ]
    }
   ],
   "source": [
    "analysis_task, analysis_agent = AnalyzeTask, AnalyzerAgent\n",
    "prometheus_results = pm_result\n",
    "analysis_crew = Crew(\n",
    "            agents=[analysis_agent],\n",
    "            tasks=[analysis_task],\n",
    "            process=Process.sequential,\n",
    "            verbose=True,\n",
    "        )\n",
    "an_result = analysis_crew.kickoff(\n",
    "    inputs={\n",
    "        \"prometheus_results\": prometheus_results, \n",
    "        \"original_query\": original_query,\n",
    "        }\n",
    "    )\n",
    "\n",
    "print(an_result, type(an_result))"
   ]
  },
  {
   "cell_type": "code",
   "execution_count": 75,
   "id": "30f31646",
   "metadata": {},
   "outputs": [
    {
     "data": {
      "text/markdown": [
       "**CPU Usage Analysis for September 1, 2025 (7:00–8:00 AM IST)**  \n",
       "*Note: Data covers 6:43–7:00 AM IST (17 minutes) due to query constraints. Timestamps align with UTC+5:30 (IST).*  \n",
       "\n",
       "**Key Statistics**:  \n",
       "- **Peak Usage**: 94.79% (7:13 AM IST) – critical threshold exceeded.  \n",
       "- **Lowest Usage**: 1.31% (7:23 AM IST) – stable baseline.  \n",
       "- **Average Usage**: 16.67% – skewed by initial spike.  \n",
       "- **Trend**: Sharp decline from 94.79% → 1.31% within 10 minutes, followed by gradual rise to 2.74% by 7:30 AM IST.  \n",
       "- **Duration of High Load**: 5 minutes (7:13–7:18 AM IST) above 15% usage.  \n",
       "\n",
       "**Critical Observations**:  \n",
       "1. **Critical Spike**: CPU usage surged to 94.79% at the start of the window, indicating a resource-intensive process (e.g., batch job, backup, or unoptimized service).  \n",
       "2. **Rapid Recovery**: Drop to 1.5% within 10 minutes suggests the process completed or was terminated abruptly.  \n",
       "3. **Stable Baseline**: Sustained sub-3% usage for 12 minutes confirms normal idle state.  \n",
       "4. **Late Increase**: Gradual rise to 2.74% may indicate background services ramping up (e.g., scheduled tasks).  \n",
       "\n",
       "**Actionable Recommendations**:  \n",
       "1. **Investigate Root Cause**:  \n",
       "   - Check system logs (e.g., `journalctl`, `top` history) at **7:13 AM IST** for processes consuming 94.79% CPU. Prioritize identifying if this was a one-time anomaly or recurring task (e.g., cron job).  \n",
       "2. **Optimize High-Load Processes**:  \n",
       "   - If the spike is intentional (e.g., nightly backup), reschedule it to off-peak hours or throttle CPU allocation using `cpulimit` or Kubernetes resource limits.  \n",
       "3. **Implement Alerting**:  \n",
       "   - Configure Prometheus alerts for CPU >90% for >2 minutes to detect future anomalies. Example rule: `alert: HighCPU, expr: 100 - (avg by (instance) (rate(node_cpu_seconds_total{mode=\"idle\"}[5m])) * 100) > 90`.  \n",
       "4. **Validate System Resilience**:  \n",
       "   - Test failover mechanisms during high-CPU scenarios to ensure service continuity (e.g., auto-scaling groups, redundant nodes).  \n",
       "5. **Extend Monitoring Window**:  \n",
       "   - Refine the PromQL query to capture the full 7:00–8:00 AM IST window (e.g., adjust `start`/`end` parameters) to rule out missing data.  \n",
       "\n",
       "**Urgency Assessment**:  \n",
       "- **High Priority**: The 94.79% spike risks system instability. Immediate log review is critical to prevent recurrence.  \n",
       "- **Low Risk**: Post-spike stability (1.3–2.7% usage) confirms no ongoing degradation.  \n",
       "\n",
       "*Recommend closing the loop within 24 hours by validating logs and adjusting schedules if needed.*"
      ],
      "text/plain": [
       "<IPython.core.display.Markdown object>"
      ]
     },
     "metadata": {},
     "output_type": "display_data"
    }
   ],
   "source": [
    "from IPython.display import display, Markdown, Latex\n",
    "display(Markdown(an_result.raw))"
   ]
  },
  {
   "cell_type": "code",
   "execution_count": null,
   "id": "0e47740f",
   "metadata": {},
   "outputs": [
    {
     "data": {
      "text/plain": [
       "dict"
      ]
     },
     "execution_count": 4,
     "metadata": {},
     "output_type": "execute_result"
    }
   ],
   "source": [
    "import json\n",
    "raw_result = \"\"\"{\"query\": \"(node_memory_MemTotal_bytes - node_memory_MemFree_bytes - node_memory_Buffers_bytes - node_memory_Cached_bytes) / node_memory_MemTotal_bytes * 100\", \"query_type\": \"query_range\", \"parameters\": {\"start\": 1718698500, \"end\": 1718700000, \"step\": \"1m\"}}\"\"\"\n",
    "json.loads(raw_result)"
   ]
  },
  {
   "cell_type": "code",
   "execution_count": null,
   "id": "ed81ef88",
   "metadata": {},
   "outputs": [],
   "source": [
    "import pickle\n",
    "# fs = open(\"final_state.pkl\", 'rb')\n",
    "with open(\"final_state.pkl\", 'rb') as fs:\n",
    "    final_state = pickle.load(fs)"
   ]
  },
  {
   "cell_type": "code",
   "execution_count": 10,
   "id": "3eaaeb6c",
   "metadata": {},
   "outputs": [],
   "source": [
    "final_state_raw = \"{\\\"id\\\":\\\"e682fbb8-aaef-48d2-8b4f-4039b708ae6f\\\",\\\"original_query\\\":\\\"Analyze the Memory usage for the last 15 minutes. current epoch is 1756921654\\\",\\\"promql_plan\\\":{\\\"query\\\":\\\"node_memory_MemTotal_bytes - node_memory_MemFree_bytes\\\",\\\"query_type\\\":\\\"query_range\\\",\\\"parameters\\\":{\\\"start\\\":1756920754,\\\"end\\\":1756921654,\\\"step\\\":\\\"15s\\\"}},\\\"validation_result\\\":true,\\\"validation_feedback\\\":\\\"Query executed successfully.\\\",\\\"final_prometheus_result\\\":{\\\"status\\\":\\\"success\\\",\\\"data\\\":{\\\"resultType\\\":\\\"matrix\\\",\\\"result\\\":[{\\\"metric\\\":{\\\"instance\\\":\\\"node-exporter:9100\\\",\\\"job\\\":\\\"node-exporter\\\"},\\\"values\\\":[[1756920754,\\\"1599045632\\\"],[1756920769,\\\"1603207168\\\"],[1756920784,\\\"1603465216\\\"],[1756920799,\\\"1603825664\\\"],[1756920814,\\\"1603825664\\\"],[1756920829,\\\"1603710976\\\"],[1756920844,\\\"1604911104\\\"],[1756920859,\\\"1605726208\\\"],[1756920874,\\\"1605726208\\\"],[1756920889,\\\"1607254016\\\"],[1756920904,\\\"1606582272\\\"],[1756920919,\\\"1606725632\\\"],[1756920934,\\\"1603305472\\\"],[1756920949,\\\"1603305472\\\"],[1756920964,\\\"1603641344\\\"],[1756920979,\\\"1608609792\\\"],[1756920994,\\\"1609478144\\\"],[1756921009,\\\"1612660736\\\"],[1756921024,\\\"1612660736\\\"],[1756921039,\\\"1612660736\\\"],[1756921054,\\\"1610813440\\\"],[1756921069,\\\"1607344128\\\"],[1756921084,\\\"1605992448\\\"],[1756921099,\\\"1599381504\\\"],[1756921114,\\\"1594347520\\\"],[1756921129,\\\"1600790528\\\"],[1756921144,\\\"1601224704\\\"],[1756921159,\\\"1601998848\\\"],[1756921174,\\\"1602088960\\\"],[1756921189,\\\"1600659456\\\"],[1756921204,\\\"1600409600\\\"],[1756921219,\\\"1600409600\\\"],[1756921234,\\\"1602244608\\\"],[1756921249,\\\"1602412544\\\"],[1756921264,\\\"1601986560\\\"],[1756921279,\\\"1603215360\\\"],[1756921294,\\\"1603076096\\\"],[1756921309,\\\"1606705152\\\"],[1756921324,\\\"1605992448\\\"],[1756921339,\\\"1607192576\\\"],[1756921354,\\\"1607081984\\\"],[1756921369,\\\"1611538432\\\"],[1756921384,\\\"1612242944\\\"],[1756921399,\\\"1614049280\\\"],[1756921414,\\\"1614565376\\\"],[1756921429,\\\"1611370496\\\"],[1756921444,\\\"1603612672\\\"],[1756921459,\\\"1606074368\\\"],[1756921474,\\\"1606332416\\\"],[1756921489,\\\"1603600384\\\"],[1756921504,\\\"1604632576\\\"],[1756921519,\\\"1604505600\\\"],[1756921534,\\\"1604423680\\\"],[1756921549,\\\"1599897600\\\"],[1756921564,\\\"1599897600\\\"],[1756921579,\\\"1595408384\\\"],[1756921594,\\\"1590022144\\\"],[1756921609,\\\"1585934336\\\"],[1756921624,\\\"1590128640\\\"],[1756921639,\\\"1590218752\\\"],[1756921654,\\\"1590476800\\\"]]}]}},\\\"final_answer\\\":\\\"**Key Insights:**  \\\\n- Memory usage peaked at ~1.505 GB (1,614,565,376 bytes) at 2025-09-05 10:03:34 (UTC) and dipped to a minimum of ~1.479 GB (1,585,934,336 bytes) at 2025-09-05 10:10:09.  \\\\n- Fluctuations are minor (~26 MB range) with no sustained upward or downward trend, indicating stable memory usage over the 15-minute window.  \\\\n- Recent values (~1.48 GB) show a slight decrease from the peak but remain within normal variation.  \\\\n\\\\n**Actionable Recommendations:**  \\\\n1. Investigate processes active during the peak (10:03:34) to confirm if the spike was expected (e.g., batch jobs, deployments).  \\\\n2. Ensure system memory capacity is sufficient to accommodate brief peaks, especially if close to hardware limits.  \\\\n3. Monitor for recurring spikes at similar intervals; schedule resource-intensive tasks during off-peak hours if patterns emerge.  \\\\n4. Cross-reference with CPU and disk metrics during the peak period to identify correlated resource stress.  \\\\n5. If memory usage trends upward in future data, consider optimizing memory-heavy applications or scaling infrastructure.\\\",\\\"retry_count\\\":1,\\\"next_task\\\":null}\""
   ]
  },
  {
   "cell_type": "code",
   "execution_count": 11,
   "id": "34cc6c88",
   "metadata": {},
   "outputs": [
    {
     "name": "stdout",
     "output_type": "stream",
     "text": [
      "{\"id\":\"e682fbb8-aaef-48d2-8b4f-4039b708ae6f\",\"original_query\":\"Analyze the Memory usage for the last 15 minutes. current epoch is 1756921654\",\"promql_plan\":{\"query\":\"node_memory_MemTotal_bytes - node_memory_MemFree_bytes\",\"query_type\":\"query_range\",\"parameters\":{\"start\":1756920754,\"end\":1756921654,\"step\":\"15s\"}},\"validation_result\":true,\"validation_feedback\":\"Query executed successfully.\",\"final_prometheus_result\":{\"status\":\"success\",\"data\":{\"resultType\":\"matrix\",\"result\":[{\"metric\":{\"instance\":\"node-exporter:9100\",\"job\":\"node-exporter\"},\"values\":[[1756920754,\"1599045632\"],[1756920769,\"1603207168\"],[1756920784,\"1603465216\"],[1756920799,\"1603825664\"],[1756920814,\"1603825664\"],[1756920829,\"1603710976\"],[1756920844,\"1604911104\"],[1756920859,\"1605726208\"],[1756920874,\"1605726208\"],[1756920889,\"1607254016\"],[1756920904,\"1606582272\"],[1756920919,\"1606725632\"],[1756920934,\"1603305472\"],[1756920949,\"1603305472\"],[1756920964,\"1603641344\"],[1756920979,\"1608609792\"],[1756920994,\"1609478144\"],[1756921009,\"1612660736\"],[1756921024,\"1612660736\"],[1756921039,\"1612660736\"],[1756921054,\"1610813440\"],[1756921069,\"1607344128\"],[1756921084,\"1605992448\"],[1756921099,\"1599381504\"],[1756921114,\"1594347520\"],[1756921129,\"1600790528\"],[1756921144,\"1601224704\"],[1756921159,\"1601998848\"],[1756921174,\"1602088960\"],[1756921189,\"1600659456\"],[1756921204,\"1600409600\"],[1756921219,\"1600409600\"],[1756921234,\"1602244608\"],[1756921249,\"1602412544\"],[1756921264,\"1601986560\"],[1756921279,\"1603215360\"],[1756921294,\"1603076096\"],[1756921309,\"1606705152\"],[1756921324,\"1605992448\"],[1756921339,\"1607192576\"],[1756921354,\"1607081984\"],[1756921369,\"1611538432\"],[1756921384,\"1612242944\"],[1756921399,\"1614049280\"],[1756921414,\"1614565376\"],[1756921429,\"1611370496\"],[1756921444,\"1603612672\"],[1756921459,\"1606074368\"],[1756921474,\"1606332416\"],[1756921489,\"1603600384\"],[1756921504,\"1604632576\"],[1756921519,\"1604505600\"],[1756921534,\"1604423680\"],[1756921549,\"1599897600\"],[1756921564,\"1599897600\"],[1756921579,\"1595408384\"],[1756921594,\"1590022144\"],[1756921609,\"1585934336\"],[1756921624,\"1590128640\"],[1756921639,\"1590218752\"],[1756921654,\"1590476800\"]]}]}},\"final_answer\":\"**Key Insights:**  \\n- Memory usage peaked at ~1.505 GB (1,614,565,376 bytes) at 2025-09-05 10:03:34 (UTC) and dipped to a minimum of ~1.479 GB (1,585,934,336 bytes) at 2025-09-05 10:10:09.  \\n- Fluctuations are minor (~26 MB range) with no sustained upward or downward trend, indicating stable memory usage over the 15-minute window.  \\n- Recent values (~1.48 GB) show a slight decrease from the peak but remain within normal variation.  \\n\\n**Actionable Recommendations:**  \\n1. Investigate processes active during the peak (10:03:34) to confirm if the spike was expected (e.g., batch jobs, deployments).  \\n2. Ensure system memory capacity is sufficient to accommodate brief peaks, especially if close to hardware limits.  \\n3. Monitor for recurring spikes at similar intervals; schedule resource-intensive tasks during off-peak hours if patterns emerge.  \\n4. Cross-reference with CPU and disk metrics during the peak period to identify correlated resource stress.  \\n5. If memory usage trends upward in future data, consider optimizing memory-heavy applications or scaling infrastructure.\",\"retry_count\":1,\"next_task\":null} <class 'str'>\n"
     ]
    }
   ],
   "source": [
    "import json\n",
    "final_state_json = json.loads(final_state_raw)\n",
    "print(final_state_raw, type(final_state_raw))"
   ]
  },
  {
   "cell_type": "code",
   "execution_count": null,
   "id": "d5d19bad",
   "metadata": {},
   "outputs": [
    {
     "data": {
      "text/plain": [
       "[[1756920754, '1599045632'],\n",
       " [1756920769, '1603207168'],\n",
       " [1756920784, '1603465216'],\n",
       " [1756920799, '1603825664'],\n",
       " [1756920814, '1603825664'],\n",
       " [1756920829, '1603710976'],\n",
       " [1756920844, '1604911104'],\n",
       " [1756920859, '1605726208'],\n",
       " [1756920874, '1605726208'],\n",
       " [1756920889, '1607254016'],\n",
       " [1756920904, '1606582272'],\n",
       " [1756920919, '1606725632'],\n",
       " [1756920934, '1603305472'],\n",
       " [1756920949, '1603305472'],\n",
       " [1756920964, '1603641344'],\n",
       " [1756920979, '1608609792'],\n",
       " [1756920994, '1609478144'],\n",
       " [1756921009, '1612660736'],\n",
       " [1756921024, '1612660736'],\n",
       " [1756921039, '1612660736'],\n",
       " [1756921054, '1610813440'],\n",
       " [1756921069, '1607344128'],\n",
       " [1756921084, '1605992448'],\n",
       " [1756921099, '1599381504'],\n",
       " [1756921114, '1594347520'],\n",
       " [1756921129, '1600790528'],\n",
       " [1756921144, '1601224704'],\n",
       " [1756921159, '1601998848'],\n",
       " [1756921174, '1602088960'],\n",
       " [1756921189, '1600659456'],\n",
       " [1756921204, '1600409600'],\n",
       " [1756921219, '1600409600'],\n",
       " [1756921234, '1602244608'],\n",
       " [1756921249, '1602412544'],\n",
       " [1756921264, '1601986560'],\n",
       " [1756921279, '1603215360'],\n",
       " [1756921294, '1603076096'],\n",
       " [1756921309, '1606705152'],\n",
       " [1756921324, '1605992448'],\n",
       " [1756921339, '1607192576'],\n",
       " [1756921354, '1607081984'],\n",
       " [1756921369, '1611538432'],\n",
       " [1756921384, '1612242944'],\n",
       " [1756921399, '1614049280'],\n",
       " [1756921414, '1614565376'],\n",
       " [1756921429, '1611370496'],\n",
       " [1756921444, '1603612672'],\n",
       " [1756921459, '1606074368'],\n",
       " [1756921474, '1606332416'],\n",
       " [1756921489, '1603600384'],\n",
       " [1756921504, '1604632576'],\n",
       " [1756921519, '1604505600'],\n",
       " [1756921534, '1604423680'],\n",
       " [1756921549, '1599897600'],\n",
       " [1756921564, '1599897600'],\n",
       " [1756921579, '1595408384'],\n",
       " [1756921594, '1590022144'],\n",
       " [1756921609, '1585934336'],\n",
       " [1756921624, '1590128640'],\n",
       " [1756921639, '1590218752'],\n",
       " [1756921654, '1590476800']]"
      ]
     },
     "execution_count": 27,
     "metadata": {},
     "output_type": "execute_result"
    }
   ],
   "source": [
    "metrics = final_state_json.get(\"final_prometheus_result\")['data'][\"result\"][0][\"values\"]"
   ]
  }
 ],
 "metadata": {
  "kernelspec": {
   "display_name": "talk-to-prometheus",
   "language": "python",
   "name": "python3"
  },
  "language_info": {
   "codemirror_mode": {
    "name": "ipython",
    "version": 3
   },
   "file_extension": ".py",
   "mimetype": "text/x-python",
   "name": "python",
   "nbconvert_exporter": "python",
   "pygments_lexer": "ipython3",
   "version": "3.13.5"
  }
 },
 "nbformat": 4,
 "nbformat_minor": 5
}
